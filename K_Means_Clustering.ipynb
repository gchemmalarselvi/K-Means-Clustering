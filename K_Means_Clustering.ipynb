{
  "nbformat": 4,
  "nbformat_minor": 0,
  "metadata": {
    "colab": {
      "name": "ICP_6_K Means Clustering.ipynb",
      "provenance": [],
      "collapsed_sections": []
    },
    "kernelspec": {
      "name": "python3",
      "display_name": "Python 3"
    },
    "language_info": {
      "name": "python"
    }
  },
  "cells": [
    {
      "cell_type": "code",
      "execution_count": 88,
      "metadata": {
        "id": "6dWP7gF4d0yK"
      },
      "outputs": [],
      "source": [
        "# importing required libraries\n",
        "import pandas as pd\n",
        "import numpy as np\n",
        "import matplotlib.pyplot as plt\n",
        "%matplotlib inline\n",
        "\n",
        "# K means clustering algorithm from sklearn cluster\n",
        "from sklearn.cluster import KMeans\n",
        "\n",
        "# K means score calculator\n",
        "from sklearn.metrics import silhouette_score"
      ]
    },
    {
      "cell_type": "markdown",
      "source": [
        "Loading the dataset downloaded from kaggle\n",
        "\n",
        "The data comes from the U.S. International Air Passenger and Freight Statistics Report. As part of the T-100 program, USDOT receives traffic reports of US and international airlines operating to and from US airports. There are two datasets available:\n",
        "\n",
        "**Departures:** Data on all flights between US gateways and non-US gateways, irrespective of origin and destination.\n",
        "\n",
        "Each observation provides information on a specific airline for a pair of airports, one in the US and the other outside. \n",
        "\n",
        "Three main columns record the number of flights: Scheduled, Charter, and Total.\n",
        "\n",
        "Passengers: Data on the total number of passengers for each month and year between a pair of airports, as serviced by a particular airline.\n"
      ],
      "metadata": {
        "id": "RzJGSvNr41_1"
      }
    },
    {
      "cell_type": "code",
      "source": [
        "# Reading the International_Report_Passengers data using pandas and looking at the first five rows of the data\n",
        "\n",
        "# https://www.kaggle.com/parulpandey/us-international-air-traffic-data?select=International_Report_Passengers.csv\n",
        "data=pd.read_csv(\"International_Report_Passengers.csv\")\n",
        "\n",
        "# First 5 records from the data frame\n",
        "data.head(5)"
      ],
      "metadata": {
        "colab": {
          "base_uri": "https://localhost:8080/",
          "height": 206
        },
        "id": "QrNjRM-ybwFR",
        "outputId": "2a5dd7ac-da20-46a7-93cc-f241ca48ad8c"
      },
      "execution_count": 89,
      "outputs": [
        {
          "output_type": "execute_result",
          "data": {
            "text/html": [
              "\n",
              "  <div id=\"df-8ec68689-14f8-4a99-8ae2-6c85d0ed3c72\">\n",
              "    <div class=\"colab-df-container\">\n",
              "      <div>\n",
              "<style scoped>\n",
              "    .dataframe tbody tr th:only-of-type {\n",
              "        vertical-align: middle;\n",
              "    }\n",
              "\n",
              "    .dataframe tbody tr th {\n",
              "        vertical-align: top;\n",
              "    }\n",
              "\n",
              "    .dataframe thead th {\n",
              "        text-align: right;\n",
              "    }\n",
              "</style>\n",
              "<table border=\"1\" class=\"dataframe\">\n",
              "  <thead>\n",
              "    <tr style=\"text-align: right;\">\n",
              "      <th></th>\n",
              "      <th>data_dte</th>\n",
              "      <th>Year</th>\n",
              "      <th>Month</th>\n",
              "      <th>usg_apt_id</th>\n",
              "      <th>usg_apt</th>\n",
              "      <th>usg_wac</th>\n",
              "      <th>fg_apt_id</th>\n",
              "      <th>fg_apt</th>\n",
              "      <th>fg_wac</th>\n",
              "      <th>airlineid</th>\n",
              "      <th>carrier</th>\n",
              "      <th>carriergroup</th>\n",
              "      <th>type</th>\n",
              "      <th>Scheduled</th>\n",
              "      <th>Charter</th>\n",
              "      <th>Total</th>\n",
              "    </tr>\n",
              "  </thead>\n",
              "  <tbody>\n",
              "    <tr>\n",
              "      <th>0</th>\n",
              "      <td>05/01/2014</td>\n",
              "      <td>2014</td>\n",
              "      <td>5</td>\n",
              "      <td>14492</td>\n",
              "      <td>RDU</td>\n",
              "      <td>36</td>\n",
              "      <td>11032</td>\n",
              "      <td>CUN</td>\n",
              "      <td>148</td>\n",
              "      <td>19534</td>\n",
              "      <td>AM</td>\n",
              "      <td>0</td>\n",
              "      <td>Passengers</td>\n",
              "      <td>0</td>\n",
              "      <td>315</td>\n",
              "      <td>315</td>\n",
              "    </tr>\n",
              "    <tr>\n",
              "      <th>1</th>\n",
              "      <td>06/01/2007</td>\n",
              "      <td>2007</td>\n",
              "      <td>6</td>\n",
              "      <td>13204</td>\n",
              "      <td>MCO</td>\n",
              "      <td>33</td>\n",
              "      <td>16085</td>\n",
              "      <td>YHZ</td>\n",
              "      <td>951</td>\n",
              "      <td>20364</td>\n",
              "      <td>C6</td>\n",
              "      <td>0</td>\n",
              "      <td>Passengers</td>\n",
              "      <td>0</td>\n",
              "      <td>683</td>\n",
              "      <td>683</td>\n",
              "    </tr>\n",
              "    <tr>\n",
              "      <th>2</th>\n",
              "      <td>12/01/2005</td>\n",
              "      <td>2005</td>\n",
              "      <td>12</td>\n",
              "      <td>11433</td>\n",
              "      <td>DTW</td>\n",
              "      <td>43</td>\n",
              "      <td>10411</td>\n",
              "      <td>AUA</td>\n",
              "      <td>277</td>\n",
              "      <td>20344</td>\n",
              "      <td>RD</td>\n",
              "      <td>1</td>\n",
              "      <td>Passengers</td>\n",
              "      <td>0</td>\n",
              "      <td>1010</td>\n",
              "      <td>1010</td>\n",
              "    </tr>\n",
              "    <tr>\n",
              "      <th>3</th>\n",
              "      <td>04/01/2003</td>\n",
              "      <td>2003</td>\n",
              "      <td>4</td>\n",
              "      <td>13487</td>\n",
              "      <td>MSP</td>\n",
              "      <td>63</td>\n",
              "      <td>16304</td>\n",
              "      <td>ZIH</td>\n",
              "      <td>148</td>\n",
              "      <td>20204</td>\n",
              "      <td>MG</td>\n",
              "      <td>1</td>\n",
              "      <td>Passengers</td>\n",
              "      <td>0</td>\n",
              "      <td>508</td>\n",
              "      <td>508</td>\n",
              "    </tr>\n",
              "    <tr>\n",
              "      <th>4</th>\n",
              "      <td>12/01/2005</td>\n",
              "      <td>2005</td>\n",
              "      <td>12</td>\n",
              "      <td>12016</td>\n",
              "      <td>GUM</td>\n",
              "      <td>5</td>\n",
              "      <td>11138</td>\n",
              "      <td>CRK</td>\n",
              "      <td>766</td>\n",
              "      <td>20312</td>\n",
              "      <td>TZ</td>\n",
              "      <td>1</td>\n",
              "      <td>Passengers</td>\n",
              "      <td>0</td>\n",
              "      <td>76</td>\n",
              "      <td>76</td>\n",
              "    </tr>\n",
              "  </tbody>\n",
              "</table>\n",
              "</div>\n",
              "      <button class=\"colab-df-convert\" onclick=\"convertToInteractive('df-8ec68689-14f8-4a99-8ae2-6c85d0ed3c72')\"\n",
              "              title=\"Convert this dataframe to an interactive table.\"\n",
              "              style=\"display:none;\">\n",
              "        \n",
              "  <svg xmlns=\"http://www.w3.org/2000/svg\" height=\"24px\"viewBox=\"0 0 24 24\"\n",
              "       width=\"24px\">\n",
              "    <path d=\"M0 0h24v24H0V0z\" fill=\"none\"/>\n",
              "    <path d=\"M18.56 5.44l.94 2.06.94-2.06 2.06-.94-2.06-.94-.94-2.06-.94 2.06-2.06.94zm-11 1L8.5 8.5l.94-2.06 2.06-.94-2.06-.94L8.5 2.5l-.94 2.06-2.06.94zm10 10l.94 2.06.94-2.06 2.06-.94-2.06-.94-.94-2.06-.94 2.06-2.06.94z\"/><path d=\"M17.41 7.96l-1.37-1.37c-.4-.4-.92-.59-1.43-.59-.52 0-1.04.2-1.43.59L10.3 9.45l-7.72 7.72c-.78.78-.78 2.05 0 2.83L4 21.41c.39.39.9.59 1.41.59.51 0 1.02-.2 1.41-.59l7.78-7.78 2.81-2.81c.8-.78.8-2.07 0-2.86zM5.41 20L4 18.59l7.72-7.72 1.47 1.35L5.41 20z\"/>\n",
              "  </svg>\n",
              "      </button>\n",
              "      \n",
              "  <style>\n",
              "    .colab-df-container {\n",
              "      display:flex;\n",
              "      flex-wrap:wrap;\n",
              "      gap: 12px;\n",
              "    }\n",
              "\n",
              "    .colab-df-convert {\n",
              "      background-color: #E8F0FE;\n",
              "      border: none;\n",
              "      border-radius: 50%;\n",
              "      cursor: pointer;\n",
              "      display: none;\n",
              "      fill: #1967D2;\n",
              "      height: 32px;\n",
              "      padding: 0 0 0 0;\n",
              "      width: 32px;\n",
              "    }\n",
              "\n",
              "    .colab-df-convert:hover {\n",
              "      background-color: #E2EBFA;\n",
              "      box-shadow: 0px 1px 2px rgba(60, 64, 67, 0.3), 0px 1px 3px 1px rgba(60, 64, 67, 0.15);\n",
              "      fill: #174EA6;\n",
              "    }\n",
              "\n",
              "    [theme=dark] .colab-df-convert {\n",
              "      background-color: #3B4455;\n",
              "      fill: #D2E3FC;\n",
              "    }\n",
              "\n",
              "    [theme=dark] .colab-df-convert:hover {\n",
              "      background-color: #434B5C;\n",
              "      box-shadow: 0px 1px 3px 1px rgba(0, 0, 0, 0.15);\n",
              "      filter: drop-shadow(0px 1px 2px rgba(0, 0, 0, 0.3));\n",
              "      fill: #FFFFFF;\n",
              "    }\n",
              "  </style>\n",
              "\n",
              "      <script>\n",
              "        const buttonEl =\n",
              "          document.querySelector('#df-8ec68689-14f8-4a99-8ae2-6c85d0ed3c72 button.colab-df-convert');\n",
              "        buttonEl.style.display =\n",
              "          google.colab.kernel.accessAllowed ? 'block' : 'none';\n",
              "\n",
              "        async function convertToInteractive(key) {\n",
              "          const element = document.querySelector('#df-8ec68689-14f8-4a99-8ae2-6c85d0ed3c72');\n",
              "          const dataTable =\n",
              "            await google.colab.kernel.invokeFunction('convertToInteractive',\n",
              "                                                     [key], {});\n",
              "          if (!dataTable) return;\n",
              "\n",
              "          const docLinkHtml = 'Like what you see? Visit the ' +\n",
              "            '<a target=\"_blank\" href=https://colab.research.google.com/notebooks/data_table.ipynb>data table notebook</a>'\n",
              "            + ' to learn more about interactive tables.';\n",
              "          element.innerHTML = '';\n",
              "          dataTable['output_type'] = 'display_data';\n",
              "          await google.colab.output.renderOutput(dataTable, element);\n",
              "          const docLink = document.createElement('div');\n",
              "          docLink.innerHTML = docLinkHtml;\n",
              "          element.appendChild(docLink);\n",
              "        }\n",
              "      </script>\n",
              "    </div>\n",
              "  </div>\n",
              "  "
            ],
            "text/plain": [
              "     data_dte  Year  Month  usg_apt_id usg_apt  usg_wac  fg_apt_id fg_apt  \\\n",
              "0  05/01/2014  2014      5       14492     RDU       36      11032    CUN   \n",
              "1  06/01/2007  2007      6       13204     MCO       33      16085    YHZ   \n",
              "2  12/01/2005  2005     12       11433     DTW       43      10411    AUA   \n",
              "3  04/01/2003  2003      4       13487     MSP       63      16304    ZIH   \n",
              "4  12/01/2005  2005     12       12016     GUM        5      11138    CRK   \n",
              "\n",
              "   fg_wac  airlineid carrier  carriergroup        type  Scheduled  Charter  \\\n",
              "0     148      19534      AM             0  Passengers          0      315   \n",
              "1     951      20364      C6             0  Passengers          0      683   \n",
              "2     277      20344      RD             1  Passengers          0     1010   \n",
              "3     148      20204      MG             1  Passengers          0      508   \n",
              "4     766      20312      TZ             1  Passengers          0       76   \n",
              "\n",
              "   Total  \n",
              "0    315  \n",
              "1    683  \n",
              "2   1010  \n",
              "3    508  \n",
              "4     76  "
            ]
          },
          "metadata": {},
          "execution_count": 89
        }
      ]
    },
    {
      "cell_type": "markdown",
      "source": [
        "Column details from dataset which gives more info about what columns can be used for k-means clustering algorithms and plotting"
      ],
      "metadata": {
        "id": "Ta2BKh4050VV"
      }
    },
    {
      "cell_type": "code",
      "source": [
        "# Displaying the columns present in the data.\n",
        "data.columns"
      ],
      "metadata": {
        "colab": {
          "base_uri": "https://localhost:8080/"
        },
        "id": "acwOsDUSIfw0",
        "outputId": "e58c1d25-a275-41d6-8656-24334a3c853a"
      },
      "execution_count": 90,
      "outputs": [
        {
          "output_type": "execute_result",
          "data": {
            "text/plain": [
              "Index(['data_dte', 'Year', 'Month', 'usg_apt_id', 'usg_apt', 'usg_wac',\n",
              "       'fg_apt_id', 'fg_apt', 'fg_wac', 'airlineid', 'carrier', 'carriergroup',\n",
              "       'type', 'Scheduled', 'Charter', 'Total'],\n",
              "      dtype='object')"
            ]
          },
          "metadata": {},
          "execution_count": 90
        }
      ]
    },
    {
      "cell_type": "markdown",
      "source": [
        "Considering only the numeric columns from the data by eliminating the categorical value columns so that the clustering can be done efficiently"
      ],
      "metadata": {
        "id": "-rcRViBo6N3-"
      }
    },
    {
      "cell_type": "code",
      "source": [
        "data = data[['Year', 'Month', 'usg_apt_id', 'usg_wac', 'fg_apt_id', 'fg_wac','airlineid', 'carriergroup', 'Scheduled','Charter', 'Total']]"
      ],
      "metadata": {
        "id": "828acCdm6RXb"
      },
      "execution_count": 91,
      "outputs": []
    },
    {
      "cell_type": "code",
      "source": [
        "# statistics of the data\n",
        "data.describe()"
      ],
      "metadata": {
        "colab": {
          "base_uri": "https://localhost:8080/",
          "height": 300
        },
        "id": "Rhf3kCf3IkwD",
        "outputId": "11362fe6-f923-40f1-a963-e48490cd9240"
      },
      "execution_count": 92,
      "outputs": [
        {
          "output_type": "execute_result",
          "data": {
            "text/html": [
              "\n",
              "  <div id=\"df-14c6450a-5e39-465a-9956-1aee856e1387\">\n",
              "    <div class=\"colab-df-container\">\n",
              "      <div>\n",
              "<style scoped>\n",
              "    .dataframe tbody tr th:only-of-type {\n",
              "        vertical-align: middle;\n",
              "    }\n",
              "\n",
              "    .dataframe tbody tr th {\n",
              "        vertical-align: top;\n",
              "    }\n",
              "\n",
              "    .dataframe thead th {\n",
              "        text-align: right;\n",
              "    }\n",
              "</style>\n",
              "<table border=\"1\" class=\"dataframe\">\n",
              "  <thead>\n",
              "    <tr style=\"text-align: right;\">\n",
              "      <th></th>\n",
              "      <th>Year</th>\n",
              "      <th>Month</th>\n",
              "      <th>usg_apt_id</th>\n",
              "      <th>usg_wac</th>\n",
              "      <th>fg_apt_id</th>\n",
              "      <th>fg_wac</th>\n",
              "      <th>airlineid</th>\n",
              "      <th>carriergroup</th>\n",
              "      <th>Scheduled</th>\n",
              "      <th>Charter</th>\n",
              "      <th>Total</th>\n",
              "    </tr>\n",
              "  </thead>\n",
              "  <tbody>\n",
              "    <tr>\n",
              "      <th>count</th>\n",
              "      <td>680985.000000</td>\n",
              "      <td>680985.000000</td>\n",
              "      <td>680985.000000</td>\n",
              "      <td>680985.000000</td>\n",
              "      <td>680985.000000</td>\n",
              "      <td>680985.000000</td>\n",
              "      <td>680985.000000</td>\n",
              "      <td>680985.000000</td>\n",
              "      <td>680985.000000</td>\n",
              "      <td>680985.000000</td>\n",
              "      <td>680985.000000</td>\n",
              "    </tr>\n",
              "    <tr>\n",
              "      <th>mean</th>\n",
              "      <td>2006.141110</td>\n",
              "      <td>6.366576</td>\n",
              "      <td>12779.103825</td>\n",
              "      <td>44.394527</td>\n",
              "      <td>13493.331869</td>\n",
              "      <td>468.122264</td>\n",
              "      <td>20031.610461</td>\n",
              "      <td>0.562233</td>\n",
              "      <td>6478.893801</td>\n",
              "      <td>196.740288</td>\n",
              "      <td>6675.634089</td>\n",
              "    </tr>\n",
              "    <tr>\n",
              "      <th>std</th>\n",
              "      <td>8.716122</td>\n",
              "      <td>3.466745</td>\n",
              "      <td>2510.939346</td>\n",
              "      <td>28.110753</td>\n",
              "      <td>1955.917890</td>\n",
              "      <td>292.799407</td>\n",
              "      <td>510.270976</td>\n",
              "      <td>0.496112</td>\n",
              "      <td>8622.704655</td>\n",
              "      <td>954.759814</td>\n",
              "      <td>8532.400269</td>\n",
              "    </tr>\n",
              "    <tr>\n",
              "      <th>min</th>\n",
              "      <td>1990.000000</td>\n",
              "      <td>1.000000</td>\n",
              "      <td>10010.000000</td>\n",
              "      <td>1.000000</td>\n",
              "      <td>10125.000000</td>\n",
              "      <td>106.000000</td>\n",
              "      <td>19386.000000</td>\n",
              "      <td>0.000000</td>\n",
              "      <td>0.000000</td>\n",
              "      <td>0.000000</td>\n",
              "      <td>1.000000</td>\n",
              "    </tr>\n",
              "    <tr>\n",
              "      <th>25%</th>\n",
              "      <td>1999.000000</td>\n",
              "      <td>3.000000</td>\n",
              "      <td>11618.000000</td>\n",
              "      <td>22.000000</td>\n",
              "      <td>11760.000000</td>\n",
              "      <td>204.000000</td>\n",
              "      <td>19623.000000</td>\n",
              "      <td>0.000000</td>\n",
              "      <td>142.000000</td>\n",
              "      <td>0.000000</td>\n",
              "      <td>633.000000</td>\n",
              "    </tr>\n",
              "    <tr>\n",
              "      <th>50%</th>\n",
              "      <td>2007.000000</td>\n",
              "      <td>6.000000</td>\n",
              "      <td>12889.000000</td>\n",
              "      <td>33.000000</td>\n",
              "      <td>13408.000000</td>\n",
              "      <td>429.000000</td>\n",
              "      <td>19917.000000</td>\n",
              "      <td>1.000000</td>\n",
              "      <td>3561.000000</td>\n",
              "      <td>0.000000</td>\n",
              "      <td>3803.000000</td>\n",
              "    </tr>\n",
              "    <tr>\n",
              "      <th>75%</th>\n",
              "      <td>2014.000000</td>\n",
              "      <td>9.000000</td>\n",
              "      <td>13796.000000</td>\n",
              "      <td>74.000000</td>\n",
              "      <td>15092.000000</td>\n",
              "      <td>736.000000</td>\n",
              "      <td>20312.000000</td>\n",
              "      <td>1.000000</td>\n",
              "      <td>9700.000000</td>\n",
              "      <td>0.000000</td>\n",
              "      <td>9761.000000</td>\n",
              "    </tr>\n",
              "    <tr>\n",
              "      <th>max</th>\n",
              "      <td>2020.000000</td>\n",
              "      <td>12.000000</td>\n",
              "      <td>99999.000000</td>\n",
              "      <td>93.000000</td>\n",
              "      <td>16881.000000</td>\n",
              "      <td>975.000000</td>\n",
              "      <td>22067.000000</td>\n",
              "      <td>1.000000</td>\n",
              "      <td>149898.000000</td>\n",
              "      <td>58284.000000</td>\n",
              "      <td>150195.000000</td>\n",
              "    </tr>\n",
              "  </tbody>\n",
              "</table>\n",
              "</div>\n",
              "      <button class=\"colab-df-convert\" onclick=\"convertToInteractive('df-14c6450a-5e39-465a-9956-1aee856e1387')\"\n",
              "              title=\"Convert this dataframe to an interactive table.\"\n",
              "              style=\"display:none;\">\n",
              "        \n",
              "  <svg xmlns=\"http://www.w3.org/2000/svg\" height=\"24px\"viewBox=\"0 0 24 24\"\n",
              "       width=\"24px\">\n",
              "    <path d=\"M0 0h24v24H0V0z\" fill=\"none\"/>\n",
              "    <path d=\"M18.56 5.44l.94 2.06.94-2.06 2.06-.94-2.06-.94-.94-2.06-.94 2.06-2.06.94zm-11 1L8.5 8.5l.94-2.06 2.06-.94-2.06-.94L8.5 2.5l-.94 2.06-2.06.94zm10 10l.94 2.06.94-2.06 2.06-.94-2.06-.94-.94-2.06-.94 2.06-2.06.94z\"/><path d=\"M17.41 7.96l-1.37-1.37c-.4-.4-.92-.59-1.43-.59-.52 0-1.04.2-1.43.59L10.3 9.45l-7.72 7.72c-.78.78-.78 2.05 0 2.83L4 21.41c.39.39.9.59 1.41.59.51 0 1.02-.2 1.41-.59l7.78-7.78 2.81-2.81c.8-.78.8-2.07 0-2.86zM5.41 20L4 18.59l7.72-7.72 1.47 1.35L5.41 20z\"/>\n",
              "  </svg>\n",
              "      </button>\n",
              "      \n",
              "  <style>\n",
              "    .colab-df-container {\n",
              "      display:flex;\n",
              "      flex-wrap:wrap;\n",
              "      gap: 12px;\n",
              "    }\n",
              "\n",
              "    .colab-df-convert {\n",
              "      background-color: #E8F0FE;\n",
              "      border: none;\n",
              "      border-radius: 50%;\n",
              "      cursor: pointer;\n",
              "      display: none;\n",
              "      fill: #1967D2;\n",
              "      height: 32px;\n",
              "      padding: 0 0 0 0;\n",
              "      width: 32px;\n",
              "    }\n",
              "\n",
              "    .colab-df-convert:hover {\n",
              "      background-color: #E2EBFA;\n",
              "      box-shadow: 0px 1px 2px rgba(60, 64, 67, 0.3), 0px 1px 3px 1px rgba(60, 64, 67, 0.15);\n",
              "      fill: #174EA6;\n",
              "    }\n",
              "\n",
              "    [theme=dark] .colab-df-convert {\n",
              "      background-color: #3B4455;\n",
              "      fill: #D2E3FC;\n",
              "    }\n",
              "\n",
              "    [theme=dark] .colab-df-convert:hover {\n",
              "      background-color: #434B5C;\n",
              "      box-shadow: 0px 1px 3px 1px rgba(0, 0, 0, 0.15);\n",
              "      filter: drop-shadow(0px 1px 2px rgba(0, 0, 0, 0.3));\n",
              "      fill: #FFFFFF;\n",
              "    }\n",
              "  </style>\n",
              "\n",
              "      <script>\n",
              "        const buttonEl =\n",
              "          document.querySelector('#df-14c6450a-5e39-465a-9956-1aee856e1387 button.colab-df-convert');\n",
              "        buttonEl.style.display =\n",
              "          google.colab.kernel.accessAllowed ? 'block' : 'none';\n",
              "\n",
              "        async function convertToInteractive(key) {\n",
              "          const element = document.querySelector('#df-14c6450a-5e39-465a-9956-1aee856e1387');\n",
              "          const dataTable =\n",
              "            await google.colab.kernel.invokeFunction('convertToInteractive',\n",
              "                                                     [key], {});\n",
              "          if (!dataTable) return;\n",
              "\n",
              "          const docLinkHtml = 'Like what you see? Visit the ' +\n",
              "            '<a target=\"_blank\" href=https://colab.research.google.com/notebooks/data_table.ipynb>data table notebook</a>'\n",
              "            + ' to learn more about interactive tables.';\n",
              "          element.innerHTML = '';\n",
              "          dataTable['output_type'] = 'display_data';\n",
              "          await google.colab.output.renderOutput(dataTable, element);\n",
              "          const docLink = document.createElement('div');\n",
              "          docLink.innerHTML = docLinkHtml;\n",
              "          element.appendChild(docLink);\n",
              "        }\n",
              "      </script>\n",
              "    </div>\n",
              "  </div>\n",
              "  "
            ],
            "text/plain": [
              "                Year          Month     usg_apt_id        usg_wac  \\\n",
              "count  680985.000000  680985.000000  680985.000000  680985.000000   \n",
              "mean     2006.141110       6.366576   12779.103825      44.394527   \n",
              "std         8.716122       3.466745    2510.939346      28.110753   \n",
              "min      1990.000000       1.000000   10010.000000       1.000000   \n",
              "25%      1999.000000       3.000000   11618.000000      22.000000   \n",
              "50%      2007.000000       6.000000   12889.000000      33.000000   \n",
              "75%      2014.000000       9.000000   13796.000000      74.000000   \n",
              "max      2020.000000      12.000000   99999.000000      93.000000   \n",
              "\n",
              "           fg_apt_id         fg_wac      airlineid   carriergroup  \\\n",
              "count  680985.000000  680985.000000  680985.000000  680985.000000   \n",
              "mean    13493.331869     468.122264   20031.610461       0.562233   \n",
              "std      1955.917890     292.799407     510.270976       0.496112   \n",
              "min     10125.000000     106.000000   19386.000000       0.000000   \n",
              "25%     11760.000000     204.000000   19623.000000       0.000000   \n",
              "50%     13408.000000     429.000000   19917.000000       1.000000   \n",
              "75%     15092.000000     736.000000   20312.000000       1.000000   \n",
              "max     16881.000000     975.000000   22067.000000       1.000000   \n",
              "\n",
              "           Scheduled        Charter          Total  \n",
              "count  680985.000000  680985.000000  680985.000000  \n",
              "mean     6478.893801     196.740288    6675.634089  \n",
              "std      8622.704655     954.759814    8532.400269  \n",
              "min         0.000000       0.000000       1.000000  \n",
              "25%       142.000000       0.000000     633.000000  \n",
              "50%      3561.000000       0.000000    3803.000000  \n",
              "75%      9700.000000       0.000000    9761.000000  \n",
              "max    149898.000000   58284.000000  150195.000000  "
            ]
          },
          "metadata": {},
          "execution_count": 92
        }
      ]
    },
    {
      "cell_type": "markdown",
      "source": [
        "Displaying the data count with respect to each individual columns"
      ],
      "metadata": {
        "id": "IQlXN1V76VfT"
      }
    },
    {
      "cell_type": "code",
      "source": [
        "# Data Count\n",
        "data.count()"
      ],
      "metadata": {
        "colab": {
          "base_uri": "https://localhost:8080/"
        },
        "id": "59wyiFiiImPd",
        "outputId": "8fe0d0c2-8a81-4b65-89bd-57dc282afdce"
      },
      "execution_count": 93,
      "outputs": [
        {
          "output_type": "execute_result",
          "data": {
            "text/plain": [
              "Year            680985\n",
              "Month           680985\n",
              "usg_apt_id      680985\n",
              "usg_wac         680985\n",
              "fg_apt_id       680985\n",
              "fg_wac          680985\n",
              "airlineid       680985\n",
              "carriergroup    680985\n",
              "Scheduled       680985\n",
              "Charter         680985\n",
              "Total           680985\n",
              "dtype: int64"
            ]
          },
          "metadata": {},
          "execution_count": 93
        }
      ]
    },
    {
      "cell_type": "markdown",
      "source": [
        "There are around 68000 record of data, We have considered first 15000 rows to implement the K-Means Clustering Algorithm Model."
      ],
      "metadata": {
        "id": "EbLIiUTi6cB9"
      }
    },
    {
      "cell_type": "code",
      "source": [
        "# First 15000 records from existing dataset to new data for considering K-Means\n",
        "data=data.head(15000)"
      ],
      "metadata": {
        "id": "1QWt4OftIoFC"
      },
      "execution_count": 94,
      "outputs": []
    },
    {
      "cell_type": "markdown",
      "source": [
        "As we can see from above there is difference in the magnitudes of values.\n",
        "\n",
        "**K-Means** is a distance-based algorithm, this difference of magnitude can \n",
        "create a problem. So let’s first bring all the variables to the same magnitude.\n",
        "\n",
        "**Standardize features** by removing the mean and scaling to unit variance.\n",
        "\n",
        "The standard score of a sample x is calculated as:\n",
        "\n",
        "z = (x - u) / s\n",
        "\n",
        "where u is the mean of the training samples or zero if with_mean=False, and s is the standard deviation of the training samples or one if with_std=False.\n",
        "\n",
        "**fit_transform()** is used on the training data so that we can scale the training data and also learn the scaling parameters of that data. Here, the model built by us will learn the mean and variance of the features of the training set. These learned parameters are then used to scale our test data."
      ],
      "metadata": {
        "id": "g4AqQyS96qWS"
      }
    },
    {
      "cell_type": "code",
      "source": [
        "# standardizing the data\n",
        "from sklearn.preprocessing import StandardScaler\n",
        "scaler = StandardScaler()\n",
        "data_scaled = scaler.fit_transform(data)\n",
        "\n",
        "# statistics of scaled data\n",
        "data_s=pd.DataFrame(data_scaled).describe()\n",
        "data_s"
      ],
      "metadata": {
        "colab": {
          "base_uri": "https://localhost:8080/",
          "height": 300
        },
        "id": "rwrOClObIqFF",
        "outputId": "644fbd97-b9d6-4328-f91b-12d67e2f4e68"
      },
      "execution_count": 95,
      "outputs": [
        {
          "output_type": "execute_result",
          "data": {
            "text/html": [
              "\n",
              "  <div id=\"df-af3bf0aa-0a7a-4d43-9d34-548542000c2f\">\n",
              "    <div class=\"colab-df-container\">\n",
              "      <div>\n",
              "<style scoped>\n",
              "    .dataframe tbody tr th:only-of-type {\n",
              "        vertical-align: middle;\n",
              "    }\n",
              "\n",
              "    .dataframe tbody tr th {\n",
              "        vertical-align: top;\n",
              "    }\n",
              "\n",
              "    .dataframe thead th {\n",
              "        text-align: right;\n",
              "    }\n",
              "</style>\n",
              "<table border=\"1\" class=\"dataframe\">\n",
              "  <thead>\n",
              "    <tr style=\"text-align: right;\">\n",
              "      <th></th>\n",
              "      <th>0</th>\n",
              "      <th>1</th>\n",
              "      <th>2</th>\n",
              "      <th>3</th>\n",
              "      <th>4</th>\n",
              "      <th>5</th>\n",
              "      <th>6</th>\n",
              "      <th>7</th>\n",
              "      <th>8</th>\n",
              "      <th>9</th>\n",
              "      <th>10</th>\n",
              "    </tr>\n",
              "  </thead>\n",
              "  <tbody>\n",
              "    <tr>\n",
              "      <th>count</th>\n",
              "      <td>1.500000e+04</td>\n",
              "      <td>1.500000e+04</td>\n",
              "      <td>1.500000e+04</td>\n",
              "      <td>1.500000e+04</td>\n",
              "      <td>1.500000e+04</td>\n",
              "      <td>1.500000e+04</td>\n",
              "      <td>1.500000e+04</td>\n",
              "      <td>1.500000e+04</td>\n",
              "      <td>15000.0</td>\n",
              "      <td>1.500000e+04</td>\n",
              "      <td>1.500000e+04</td>\n",
              "    </tr>\n",
              "    <tr>\n",
              "      <th>mean</th>\n",
              "      <td>2.306291e-14</td>\n",
              "      <td>-7.815970e-18</td>\n",
              "      <td>-4.573286e-17</td>\n",
              "      <td>1.061225e-16</td>\n",
              "      <td>3.703852e-16</td>\n",
              "      <td>2.331394e-16</td>\n",
              "      <td>-3.816690e-15</td>\n",
              "      <td>-4.102052e-16</td>\n",
              "      <td>0.0</td>\n",
              "      <td>-2.161234e-18</td>\n",
              "      <td>-2.161234e-18</td>\n",
              "    </tr>\n",
              "    <tr>\n",
              "      <th>std</th>\n",
              "      <td>1.000033e+00</td>\n",
              "      <td>1.000033e+00</td>\n",
              "      <td>1.000033e+00</td>\n",
              "      <td>1.000033e+00</td>\n",
              "      <td>1.000033e+00</td>\n",
              "      <td>1.000033e+00</td>\n",
              "      <td>1.000033e+00</td>\n",
              "      <td>1.000033e+00</td>\n",
              "      <td>0.0</td>\n",
              "      <td>1.000033e+00</td>\n",
              "      <td>1.000033e+00</td>\n",
              "    </tr>\n",
              "    <tr>\n",
              "      <th>min</th>\n",
              "      <td>-1.523631e+00</td>\n",
              "      <td>-1.447443e+00</td>\n",
              "      <td>-6.370965e-01</td>\n",
              "      <td>-1.647551e+00</td>\n",
              "      <td>-1.737793e+00</td>\n",
              "      <td>-1.060392e+00</td>\n",
              "      <td>-2.252231e+00</td>\n",
              "      <td>-1.437657e+00</td>\n",
              "      <td>0.0</td>\n",
              "      <td>-5.094493e-01</td>\n",
              "      <td>-5.094493e-01</td>\n",
              "    </tr>\n",
              "    <tr>\n",
              "      <th>25%</th>\n",
              "      <td>-8.114762e-01</td>\n",
              "      <td>-8.764748e-01</td>\n",
              "      <td>-3.496146e-01</td>\n",
              "      <td>-7.606324e-01</td>\n",
              "      <td>-9.152513e-01</td>\n",
              "      <td>-9.202512e-01</td>\n",
              "      <td>-3.393522e-01</td>\n",
              "      <td>-1.437657e+00</td>\n",
              "      <td>0.0</td>\n",
              "      <td>-4.814943e-01</td>\n",
              "      <td>-4.814943e-01</td>\n",
              "    </tr>\n",
              "    <tr>\n",
              "      <th>50%</th>\n",
              "      <td>-9.932180e-02</td>\n",
              "      <td>-2.002196e-02</td>\n",
              "      <td>-1.296397e-02</td>\n",
              "      <td>-3.171730e-01</td>\n",
              "      <td>2.559758e-02</td>\n",
              "      <td>-4.964934e-01</td>\n",
              "      <td>1.306981e-01</td>\n",
              "      <td>6.955762e-01</td>\n",
              "      <td>0.0</td>\n",
              "      <td>-3.821542e-01</td>\n",
              "      <td>-3.821542e-01</td>\n",
              "    </tr>\n",
              "    <tr>\n",
              "      <th>75%</th>\n",
              "      <td>9.689098e-01</td>\n",
              "      <td>8.364308e-01</td>\n",
              "      <td>2.111745e-01</td>\n",
              "      <td>8.519474e-01</td>\n",
              "      <td>8.348806e-01</td>\n",
              "      <td>8.765488e-01</td>\n",
              "      <td>3.016255e-01</td>\n",
              "      <td>6.955762e-01</td>\n",
              "      <td>0.0</td>\n",
              "      <td>7.061708e-02</td>\n",
              "      <td>7.061708e-02</td>\n",
              "    </tr>\n",
              "    <tr>\n",
              "      <th>max</th>\n",
              "      <td>3.105373e+00</td>\n",
              "      <td>1.692884e+00</td>\n",
              "      <td>1.926604e+01</td>\n",
              "      <td>2.061382e+00</td>\n",
              "      <td>1.480471e+00</td>\n",
              "      <td>1.839180e+00</td>\n",
              "      <td>3.235041e+00</td>\n",
              "      <td>6.955762e-01</td>\n",
              "      <td>0.0</td>\n",
              "      <td>1.432168e+01</td>\n",
              "      <td>1.432168e+01</td>\n",
              "    </tr>\n",
              "  </tbody>\n",
              "</table>\n",
              "</div>\n",
              "      <button class=\"colab-df-convert\" onclick=\"convertToInteractive('df-af3bf0aa-0a7a-4d43-9d34-548542000c2f')\"\n",
              "              title=\"Convert this dataframe to an interactive table.\"\n",
              "              style=\"display:none;\">\n",
              "        \n",
              "  <svg xmlns=\"http://www.w3.org/2000/svg\" height=\"24px\"viewBox=\"0 0 24 24\"\n",
              "       width=\"24px\">\n",
              "    <path d=\"M0 0h24v24H0V0z\" fill=\"none\"/>\n",
              "    <path d=\"M18.56 5.44l.94 2.06.94-2.06 2.06-.94-2.06-.94-.94-2.06-.94 2.06-2.06.94zm-11 1L8.5 8.5l.94-2.06 2.06-.94-2.06-.94L8.5 2.5l-.94 2.06-2.06.94zm10 10l.94 2.06.94-2.06 2.06-.94-2.06-.94-.94-2.06-.94 2.06-2.06.94z\"/><path d=\"M17.41 7.96l-1.37-1.37c-.4-.4-.92-.59-1.43-.59-.52 0-1.04.2-1.43.59L10.3 9.45l-7.72 7.72c-.78.78-.78 2.05 0 2.83L4 21.41c.39.39.9.59 1.41.59.51 0 1.02-.2 1.41-.59l7.78-7.78 2.81-2.81c.8-.78.8-2.07 0-2.86zM5.41 20L4 18.59l7.72-7.72 1.47 1.35L5.41 20z\"/>\n",
              "  </svg>\n",
              "      </button>\n",
              "      \n",
              "  <style>\n",
              "    .colab-df-container {\n",
              "      display:flex;\n",
              "      flex-wrap:wrap;\n",
              "      gap: 12px;\n",
              "    }\n",
              "\n",
              "    .colab-df-convert {\n",
              "      background-color: #E8F0FE;\n",
              "      border: none;\n",
              "      border-radius: 50%;\n",
              "      cursor: pointer;\n",
              "      display: none;\n",
              "      fill: #1967D2;\n",
              "      height: 32px;\n",
              "      padding: 0 0 0 0;\n",
              "      width: 32px;\n",
              "    }\n",
              "\n",
              "    .colab-df-convert:hover {\n",
              "      background-color: #E2EBFA;\n",
              "      box-shadow: 0px 1px 2px rgba(60, 64, 67, 0.3), 0px 1px 3px 1px rgba(60, 64, 67, 0.15);\n",
              "      fill: #174EA6;\n",
              "    }\n",
              "\n",
              "    [theme=dark] .colab-df-convert {\n",
              "      background-color: #3B4455;\n",
              "      fill: #D2E3FC;\n",
              "    }\n",
              "\n",
              "    [theme=dark] .colab-df-convert:hover {\n",
              "      background-color: #434B5C;\n",
              "      box-shadow: 0px 1px 3px 1px rgba(0, 0, 0, 0.15);\n",
              "      filter: drop-shadow(0px 1px 2px rgba(0, 0, 0, 0.3));\n",
              "      fill: #FFFFFF;\n",
              "    }\n",
              "  </style>\n",
              "\n",
              "      <script>\n",
              "        const buttonEl =\n",
              "          document.querySelector('#df-af3bf0aa-0a7a-4d43-9d34-548542000c2f button.colab-df-convert');\n",
              "        buttonEl.style.display =\n",
              "          google.colab.kernel.accessAllowed ? 'block' : 'none';\n",
              "\n",
              "        async function convertToInteractive(key) {\n",
              "          const element = document.querySelector('#df-af3bf0aa-0a7a-4d43-9d34-548542000c2f');\n",
              "          const dataTable =\n",
              "            await google.colab.kernel.invokeFunction('convertToInteractive',\n",
              "                                                     [key], {});\n",
              "          if (!dataTable) return;\n",
              "\n",
              "          const docLinkHtml = 'Like what you see? Visit the ' +\n",
              "            '<a target=\"_blank\" href=https://colab.research.google.com/notebooks/data_table.ipynb>data table notebook</a>'\n",
              "            + ' to learn more about interactive tables.';\n",
              "          element.innerHTML = '';\n",
              "          dataTable['output_type'] = 'display_data';\n",
              "          await google.colab.output.renderOutput(dataTable, element);\n",
              "          const docLink = document.createElement('div');\n",
              "          docLink.innerHTML = docLinkHtml;\n",
              "          element.appendChild(docLink);\n",
              "        }\n",
              "      </script>\n",
              "    </div>\n",
              "  </div>\n",
              "  "
            ],
            "text/plain": [
              "                 0             1             2             3             4   \\\n",
              "count  1.500000e+04  1.500000e+04  1.500000e+04  1.500000e+04  1.500000e+04   \n",
              "mean   2.306291e-14 -7.815970e-18 -4.573286e-17  1.061225e-16  3.703852e-16   \n",
              "std    1.000033e+00  1.000033e+00  1.000033e+00  1.000033e+00  1.000033e+00   \n",
              "min   -1.523631e+00 -1.447443e+00 -6.370965e-01 -1.647551e+00 -1.737793e+00   \n",
              "25%   -8.114762e-01 -8.764748e-01 -3.496146e-01 -7.606324e-01 -9.152513e-01   \n",
              "50%   -9.932180e-02 -2.002196e-02 -1.296397e-02 -3.171730e-01  2.559758e-02   \n",
              "75%    9.689098e-01  8.364308e-01  2.111745e-01  8.519474e-01  8.348806e-01   \n",
              "max    3.105373e+00  1.692884e+00  1.926604e+01  2.061382e+00  1.480471e+00   \n",
              "\n",
              "                 5             6             7        8             9   \\\n",
              "count  1.500000e+04  1.500000e+04  1.500000e+04  15000.0  1.500000e+04   \n",
              "mean   2.331394e-16 -3.816690e-15 -4.102052e-16      0.0 -2.161234e-18   \n",
              "std    1.000033e+00  1.000033e+00  1.000033e+00      0.0  1.000033e+00   \n",
              "min   -1.060392e+00 -2.252231e+00 -1.437657e+00      0.0 -5.094493e-01   \n",
              "25%   -9.202512e-01 -3.393522e-01 -1.437657e+00      0.0 -4.814943e-01   \n",
              "50%   -4.964934e-01  1.306981e-01  6.955762e-01      0.0 -3.821542e-01   \n",
              "75%    8.765488e-01  3.016255e-01  6.955762e-01      0.0  7.061708e-02   \n",
              "max    1.839180e+00  3.235041e+00  6.955762e-01      0.0  1.432168e+01   \n",
              "\n",
              "                 10  \n",
              "count  1.500000e+04  \n",
              "mean  -2.161234e-18  \n",
              "std    1.000033e+00  \n",
              "min   -5.094493e-01  \n",
              "25%   -4.814943e-01  \n",
              "50%   -3.821542e-01  \n",
              "75%    7.061708e-02  \n",
              "max    1.432168e+01  "
            ]
          },
          "metadata": {},
          "execution_count": 95
        }
      ]
    },
    {
      "cell_type": "markdown",
      "source": [
        "Assigning column names to the output obtained above(data_scaled)"
      ],
      "metadata": {
        "id": "q3uILFltwJV2"
      }
    },
    {
      "cell_type": "code",
      "source": [
        "# Scaled data with updated data columns\n",
        "data_scaled = pd.DataFrame(data_scaled, columns= data.columns)\n",
        "data_scaled"
      ],
      "metadata": {
        "colab": {
          "base_uri": "https://localhost:8080/",
          "height": 424
        },
        "id": "4uElcnTfIr1E",
        "outputId": "90dc6660-79e6-4eb1-e327-4e6caf156b4b"
      },
      "execution_count": 96,
      "outputs": [
        {
          "output_type": "execute_result",
          "data": {
            "text/html": [
              "\n",
              "  <div id=\"df-0a904a4b-10cc-4bdc-b5b0-9c44421510c6\">\n",
              "    <div class=\"colab-df-container\">\n",
              "      <div>\n",
              "<style scoped>\n",
              "    .dataframe tbody tr th:only-of-type {\n",
              "        vertical-align: middle;\n",
              "    }\n",
              "\n",
              "    .dataframe tbody tr th {\n",
              "        vertical-align: top;\n",
              "    }\n",
              "\n",
              "    .dataframe thead th {\n",
              "        text-align: right;\n",
              "    }\n",
              "</style>\n",
              "<table border=\"1\" class=\"dataframe\">\n",
              "  <thead>\n",
              "    <tr style=\"text-align: right;\">\n",
              "      <th></th>\n",
              "      <th>Year</th>\n",
              "      <th>Month</th>\n",
              "      <th>usg_apt_id</th>\n",
              "      <th>usg_wac</th>\n",
              "      <th>fg_apt_id</th>\n",
              "      <th>fg_wac</th>\n",
              "      <th>airlineid</th>\n",
              "      <th>carriergroup</th>\n",
              "      <th>Scheduled</th>\n",
              "      <th>Charter</th>\n",
              "      <th>Total</th>\n",
              "    </tr>\n",
              "  </thead>\n",
              "  <tbody>\n",
              "    <tr>\n",
              "      <th>0</th>\n",
              "      <td>3.105373</td>\n",
              "      <td>-0.305506</td>\n",
              "      <td>0.327895</td>\n",
              "      <td>-0.236544</td>\n",
              "      <td>-1.286491</td>\n",
              "      <td>-0.920251</td>\n",
              "      <td>-1.880212</td>\n",
              "      <td>-1.437657</td>\n",
              "      <td>0.0</td>\n",
              "      <td>-0.352702</td>\n",
              "      <td>-0.352702</td>\n",
              "    </tr>\n",
              "    <tr>\n",
              "      <th>1</th>\n",
              "      <td>0.612833</td>\n",
              "      <td>-0.020022</td>\n",
              "      <td>0.042628</td>\n",
              "      <td>-0.357487</td>\n",
              "      <td>1.290262</td>\n",
              "      <td>1.759100</td>\n",
              "      <td>0.206107</td>\n",
              "      <td>-1.437657</td>\n",
              "      <td>0.0</td>\n",
              "      <td>-0.168997</td>\n",
              "      <td>-0.168997</td>\n",
              "    </tr>\n",
              "    <tr>\n",
              "      <th>2</th>\n",
              "      <td>-0.099322</td>\n",
              "      <td>1.692884</td>\n",
              "      <td>-0.349615</td>\n",
              "      <td>0.045658</td>\n",
              "      <td>-1.603167</td>\n",
              "      <td>-0.489820</td>\n",
              "      <td>0.155834</td>\n",
              "      <td>0.695576</td>\n",
              "      <td>0.0</td>\n",
              "      <td>-0.005760</td>\n",
              "      <td>-0.005760</td>\n",
              "    </tr>\n",
              "    <tr>\n",
              "      <th>3</th>\n",
              "      <td>-0.811476</td>\n",
              "      <td>-0.590990</td>\n",
              "      <td>0.105307</td>\n",
              "      <td>0.851947</td>\n",
              "      <td>1.401940</td>\n",
              "      <td>-0.920251</td>\n",
              "      <td>-0.196075</td>\n",
              "      <td>0.695576</td>\n",
              "      <td>0.0</td>\n",
              "      <td>-0.256357</td>\n",
              "      <td>-0.256357</td>\n",
              "    </tr>\n",
              "    <tr>\n",
              "      <th>4</th>\n",
              "      <td>-0.099322</td>\n",
              "      <td>1.692884</td>\n",
              "      <td>-0.220491</td>\n",
              "      <td>-1.486293</td>\n",
              "      <td>-1.232437</td>\n",
              "      <td>1.141814</td>\n",
              "      <td>0.075398</td>\n",
              "      <td>0.695576</td>\n",
              "      <td>0.0</td>\n",
              "      <td>-0.472010</td>\n",
              "      <td>-0.472010</td>\n",
              "    </tr>\n",
              "    <tr>\n",
              "      <th>...</th>\n",
              "      <td>...</td>\n",
              "      <td>...</td>\n",
              "      <td>...</td>\n",
              "      <td>...</td>\n",
              "      <td>...</td>\n",
              "      <td>...</td>\n",
              "      <td>...</td>\n",
              "      <td>...</td>\n",
              "      <td>...</td>\n",
              "      <td>...</td>\n",
              "      <td>...</td>\n",
              "    </tr>\n",
              "    <tr>\n",
              "      <th>14995</th>\n",
              "      <td>-0.099322</td>\n",
              "      <td>1.121915</td>\n",
              "      <td>0.064554</td>\n",
              "      <td>-0.357487</td>\n",
              "      <td>1.045998</td>\n",
              "      <td>0.194199</td>\n",
              "      <td>-0.356948</td>\n",
              "      <td>-1.437657</td>\n",
              "      <td>0.0</td>\n",
              "      <td>-0.381655</td>\n",
              "      <td>-0.381655</td>\n",
              "    </tr>\n",
              "    <tr>\n",
              "      <th>14996</th>\n",
              "      <td>-0.455399</td>\n",
              "      <td>-0.020022</td>\n",
              "      <td>-0.124147</td>\n",
              "      <td>-0.357487</td>\n",
              "      <td>-1.286491</td>\n",
              "      <td>-0.920251</td>\n",
              "      <td>0.294085</td>\n",
              "      <td>0.695576</td>\n",
              "      <td>0.0</td>\n",
              "      <td>-0.347710</td>\n",
              "      <td>-0.347710</td>\n",
              "    </tr>\n",
              "    <tr>\n",
              "      <th>14997</th>\n",
              "      <td>0.612833</td>\n",
              "      <td>1.407399</td>\n",
              "      <td>0.477394</td>\n",
              "      <td>-0.841261</td>\n",
              "      <td>-1.429276</td>\n",
              "      <td>-0.049379</td>\n",
              "      <td>2.272317</td>\n",
              "      <td>-1.437657</td>\n",
              "      <td>0.0</td>\n",
              "      <td>-0.508451</td>\n",
              "      <td>-0.508451</td>\n",
              "    </tr>\n",
              "    <tr>\n",
              "      <th>14998</th>\n",
              "      <td>-1.167553</td>\n",
              "      <td>1.121915</td>\n",
              "      <td>0.203423</td>\n",
              "      <td>-0.034971</td>\n",
              "      <td>-1.653652</td>\n",
              "      <td>-0.726724</td>\n",
              "      <td>0.354412</td>\n",
              "      <td>0.695576</td>\n",
              "      <td>0.0</td>\n",
              "      <td>-0.278821</td>\n",
              "      <td>-0.278821</td>\n",
              "    </tr>\n",
              "    <tr>\n",
              "      <th>14999</th>\n",
              "      <td>-0.455399</td>\n",
              "      <td>-1.447443</td>\n",
              "      <td>0.105307</td>\n",
              "      <td>0.851947</td>\n",
              "      <td>-1.286491</td>\n",
              "      <td>-0.920251</td>\n",
              "      <td>0.238785</td>\n",
              "      <td>0.695576</td>\n",
              "      <td>0.0</td>\n",
              "      <td>1.884697</td>\n",
              "      <td>1.884697</td>\n",
              "    </tr>\n",
              "  </tbody>\n",
              "</table>\n",
              "<p>15000 rows × 11 columns</p>\n",
              "</div>\n",
              "      <button class=\"colab-df-convert\" onclick=\"convertToInteractive('df-0a904a4b-10cc-4bdc-b5b0-9c44421510c6')\"\n",
              "              title=\"Convert this dataframe to an interactive table.\"\n",
              "              style=\"display:none;\">\n",
              "        \n",
              "  <svg xmlns=\"http://www.w3.org/2000/svg\" height=\"24px\"viewBox=\"0 0 24 24\"\n",
              "       width=\"24px\">\n",
              "    <path d=\"M0 0h24v24H0V0z\" fill=\"none\"/>\n",
              "    <path d=\"M18.56 5.44l.94 2.06.94-2.06 2.06-.94-2.06-.94-.94-2.06-.94 2.06-2.06.94zm-11 1L8.5 8.5l.94-2.06 2.06-.94-2.06-.94L8.5 2.5l-.94 2.06-2.06.94zm10 10l.94 2.06.94-2.06 2.06-.94-2.06-.94-.94-2.06-.94 2.06-2.06.94z\"/><path d=\"M17.41 7.96l-1.37-1.37c-.4-.4-.92-.59-1.43-.59-.52 0-1.04.2-1.43.59L10.3 9.45l-7.72 7.72c-.78.78-.78 2.05 0 2.83L4 21.41c.39.39.9.59 1.41.59.51 0 1.02-.2 1.41-.59l7.78-7.78 2.81-2.81c.8-.78.8-2.07 0-2.86zM5.41 20L4 18.59l7.72-7.72 1.47 1.35L5.41 20z\"/>\n",
              "  </svg>\n",
              "      </button>\n",
              "      \n",
              "  <style>\n",
              "    .colab-df-container {\n",
              "      display:flex;\n",
              "      flex-wrap:wrap;\n",
              "      gap: 12px;\n",
              "    }\n",
              "\n",
              "    .colab-df-convert {\n",
              "      background-color: #E8F0FE;\n",
              "      border: none;\n",
              "      border-radius: 50%;\n",
              "      cursor: pointer;\n",
              "      display: none;\n",
              "      fill: #1967D2;\n",
              "      height: 32px;\n",
              "      padding: 0 0 0 0;\n",
              "      width: 32px;\n",
              "    }\n",
              "\n",
              "    .colab-df-convert:hover {\n",
              "      background-color: #E2EBFA;\n",
              "      box-shadow: 0px 1px 2px rgba(60, 64, 67, 0.3), 0px 1px 3px 1px rgba(60, 64, 67, 0.15);\n",
              "      fill: #174EA6;\n",
              "    }\n",
              "\n",
              "    [theme=dark] .colab-df-convert {\n",
              "      background-color: #3B4455;\n",
              "      fill: #D2E3FC;\n",
              "    }\n",
              "\n",
              "    [theme=dark] .colab-df-convert:hover {\n",
              "      background-color: #434B5C;\n",
              "      box-shadow: 0px 1px 3px 1px rgba(0, 0, 0, 0.15);\n",
              "      filter: drop-shadow(0px 1px 2px rgba(0, 0, 0, 0.3));\n",
              "      fill: #FFFFFF;\n",
              "    }\n",
              "  </style>\n",
              "\n",
              "      <script>\n",
              "        const buttonEl =\n",
              "          document.querySelector('#df-0a904a4b-10cc-4bdc-b5b0-9c44421510c6 button.colab-df-convert');\n",
              "        buttonEl.style.display =\n",
              "          google.colab.kernel.accessAllowed ? 'block' : 'none';\n",
              "\n",
              "        async function convertToInteractive(key) {\n",
              "          const element = document.querySelector('#df-0a904a4b-10cc-4bdc-b5b0-9c44421510c6');\n",
              "          const dataTable =\n",
              "            await google.colab.kernel.invokeFunction('convertToInteractive',\n",
              "                                                     [key], {});\n",
              "          if (!dataTable) return;\n",
              "\n",
              "          const docLinkHtml = 'Like what you see? Visit the ' +\n",
              "            '<a target=\"_blank\" href=https://colab.research.google.com/notebooks/data_table.ipynb>data table notebook</a>'\n",
              "            + ' to learn more about interactive tables.';\n",
              "          element.innerHTML = '';\n",
              "          dataTable['output_type'] = 'display_data';\n",
              "          await google.colab.output.renderOutput(dataTable, element);\n",
              "          const docLink = document.createElement('div');\n",
              "          docLink.innerHTML = docLinkHtml;\n",
              "          element.appendChild(docLink);\n",
              "        }\n",
              "      </script>\n",
              "    </div>\n",
              "  </div>\n",
              "  "
            ],
            "text/plain": [
              "           Year     Month  usg_apt_id   usg_wac  fg_apt_id    fg_wac  \\\n",
              "0      3.105373 -0.305506    0.327895 -0.236544  -1.286491 -0.920251   \n",
              "1      0.612833 -0.020022    0.042628 -0.357487   1.290262  1.759100   \n",
              "2     -0.099322  1.692884   -0.349615  0.045658  -1.603167 -0.489820   \n",
              "3     -0.811476 -0.590990    0.105307  0.851947   1.401940 -0.920251   \n",
              "4     -0.099322  1.692884   -0.220491 -1.486293  -1.232437  1.141814   \n",
              "...         ...       ...         ...       ...        ...       ...   \n",
              "14995 -0.099322  1.121915    0.064554 -0.357487   1.045998  0.194199   \n",
              "14996 -0.455399 -0.020022   -0.124147 -0.357487  -1.286491 -0.920251   \n",
              "14997  0.612833  1.407399    0.477394 -0.841261  -1.429276 -0.049379   \n",
              "14998 -1.167553  1.121915    0.203423 -0.034971  -1.653652 -0.726724   \n",
              "14999 -0.455399 -1.447443    0.105307  0.851947  -1.286491 -0.920251   \n",
              "\n",
              "       airlineid  carriergroup  Scheduled   Charter     Total  \n",
              "0      -1.880212     -1.437657        0.0 -0.352702 -0.352702  \n",
              "1       0.206107     -1.437657        0.0 -0.168997 -0.168997  \n",
              "2       0.155834      0.695576        0.0 -0.005760 -0.005760  \n",
              "3      -0.196075      0.695576        0.0 -0.256357 -0.256357  \n",
              "4       0.075398      0.695576        0.0 -0.472010 -0.472010  \n",
              "...          ...           ...        ...       ...       ...  \n",
              "14995  -0.356948     -1.437657        0.0 -0.381655 -0.381655  \n",
              "14996   0.294085      0.695576        0.0 -0.347710 -0.347710  \n",
              "14997   2.272317     -1.437657        0.0 -0.508451 -0.508451  \n",
              "14998   0.354412      0.695576        0.0 -0.278821 -0.278821  \n",
              "14999   0.238785      0.695576        0.0  1.884697  1.884697  \n",
              "\n",
              "[15000 rows x 11 columns]"
            ]
          },
          "metadata": {},
          "execution_count": 96
        }
      ]
    },
    {
      "cell_type": "code",
      "source": [
        "# Fitting multiple k-means algorithms and storing the values in an empty list\n",
        "SSE = []\n",
        "for cluster in range(1,20):\n",
        "    kmeans = KMeans(n_clusters = cluster, init='k-means++')\n",
        "    kmeans.fit(data_scaled)\n",
        "    SSE.append(kmeans.inertia_)\n",
        "\n",
        "# Converting the results into a dataframe and plotting them\n",
        "frame = pd.DataFrame({'Cluster':range(1,20), 'SSE':SSE})\n",
        "plt.figure(figsize=(12,6))\n",
        "plt.plot(frame['Cluster'], frame['SSE'], marker='o')\n",
        "plt.xlabel('Number of clusters')\n",
        "plt.ylabel('Inertia')"
      ],
      "metadata": {
        "colab": {
          "base_uri": "https://localhost:8080/",
          "height": 405
        },
        "id": "vGzXhx-eIxgU",
        "outputId": "bc75da2d-c6a7-4f50-e6c9-eddea247994e"
      },
      "execution_count": 97,
      "outputs": [
        {
          "output_type": "execute_result",
          "data": {
            "text/plain": [
              "Text(0, 0.5, 'Inertia')"
            ]
          },
          "metadata": {},
          "execution_count": 97
        },
        {
          "output_type": "display_data",
          "data": {
            "image/png": "[encoded data removed]",
            "text/plain": [
              "<Figure size 864x432 with 1 Axes>"
            ]
          },
          "metadata": {
            "needs_background": "light"
          }
        }
      ]
    },
    {
      "cell_type": "markdown",
      "source": [
        "Looking at the above elbow curve, we can choose any number of clusters between 5 to 9. Consider the number of clusters as 5 and fit the model:"
      ],
      "metadata": {
        "id": "iPB_-zA_wSm8"
      }
    },
    {
      "cell_type": "code",
      "source": [
        "# K Means using 5 clusters and k-means++ initialization\n",
        "kmeans = KMeans(n_clusters = 5, init='k-means++')\n",
        "kmeans.fit(data_scaled)\n",
        "pred = kmeans.predict(data_scaled)"
      ],
      "metadata": {
        "id": "SaYA-hoCIzcd"
      },
      "execution_count": 98,
      "outputs": []
    },
    {
      "cell_type": "markdown",
      "source": [
        "Value count of points in each of the above-formed clusters"
      ],
      "metadata": {
        "id": "1cc0kPCfwW7J"
      }
    },
    {
      "cell_type": "code",
      "source": [
        "frame = pd.DataFrame(data_scaled)\n",
        "frame['cluster'] = pred\n",
        "frame['cluster'].value_counts()"
      ],
      "metadata": {
        "colab": {
          "base_uri": "https://localhost:8080/"
        },
        "id": "4PeL1Mk7Ja29",
        "outputId": "b1a0e83d-97f2-4248-efd7-0d3305bf2d4c"
      },
      "execution_count": 99,
      "outputs": [
        {
          "output_type": "execute_result",
          "data": {
            "text/plain": [
              "1    9406\n",
              "4    3459\n",
              "3    1363\n",
              "0     736\n",
              "2      36\n",
              "Name: cluster, dtype: int64"
            ]
          },
          "metadata": {},
          "execution_count": 99
        }
      ]
    },
    {
      "cell_type": "markdown",
      "source": [
        "So, there are 9406 data points belonging to cluster 1, then 36 points as least in cluster 2."
      ],
      "metadata": {
        "id": "lNqIlj_Pwgml"
      }
    },
    {
      "cell_type": "code",
      "source": [
        "frame"
      ],
      "metadata": {
        "colab": {
          "base_uri": "https://localhost:8080/",
          "height": 424
        },
        "id": "UqAtB04gJci1",
        "outputId": "656faac9-887f-4efc-97d3-c91b7b9fb10a"
      },
      "execution_count": 100,
      "outputs": [
        {
          "output_type": "execute_result",
          "data": {
            "text/html": [
              "\n",
              "  <div id=\"df-ff587bd1-d563-4dd5-abdd-ee5d4890ffec\">\n",
              "    <div class=\"colab-df-container\">\n",
              "      <div>\n",
              "<style scoped>\n",
              "    .dataframe tbody tr th:only-of-type {\n",
              "        vertical-align: middle;\n",
              "    }\n",
              "\n",
              "    .dataframe tbody tr th {\n",
              "        vertical-align: top;\n",
              "    }\n",
              "\n",
              "    .dataframe thead th {\n",
              "        text-align: right;\n",
              "    }\n",
              "</style>\n",
              "<table border=\"1\" class=\"dataframe\">\n",
              "  <thead>\n",
              "    <tr style=\"text-align: right;\">\n",
              "      <th></th>\n",
              "      <th>Year</th>\n",
              "      <th>Month</th>\n",
              "      <th>usg_apt_id</th>\n",
              "      <th>usg_wac</th>\n",
              "      <th>fg_apt_id</th>\n",
              "      <th>fg_wac</th>\n",
              "      <th>airlineid</th>\n",
              "      <th>carriergroup</th>\n",
              "      <th>Scheduled</th>\n",
              "      <th>Charter</th>\n",
              "      <th>Total</th>\n",
              "      <th>cluster</th>\n",
              "    </tr>\n",
              "  </thead>\n",
              "  <tbody>\n",
              "    <tr>\n",
              "      <th>0</th>\n",
              "      <td>3.105373</td>\n",
              "      <td>-0.305506</td>\n",
              "      <td>0.327895</td>\n",
              "      <td>-0.236544</td>\n",
              "      <td>-1.286491</td>\n",
              "      <td>-0.920251</td>\n",
              "      <td>-1.880212</td>\n",
              "      <td>-1.437657</td>\n",
              "      <td>0.0</td>\n",
              "      <td>-0.352702</td>\n",
              "      <td>-0.352702</td>\n",
              "      <td>1</td>\n",
              "    </tr>\n",
              "    <tr>\n",
              "      <th>1</th>\n",
              "      <td>0.612833</td>\n",
              "      <td>-0.020022</td>\n",
              "      <td>0.042628</td>\n",
              "      <td>-0.357487</td>\n",
              "      <td>1.290262</td>\n",
              "      <td>1.759100</td>\n",
              "      <td>0.206107</td>\n",
              "      <td>-1.437657</td>\n",
              "      <td>0.0</td>\n",
              "      <td>-0.168997</td>\n",
              "      <td>-0.168997</td>\n",
              "      <td>4</td>\n",
              "    </tr>\n",
              "    <tr>\n",
              "      <th>2</th>\n",
              "      <td>-0.099322</td>\n",
              "      <td>1.692884</td>\n",
              "      <td>-0.349615</td>\n",
              "      <td>0.045658</td>\n",
              "      <td>-1.603167</td>\n",
              "      <td>-0.489820</td>\n",
              "      <td>0.155834</td>\n",
              "      <td>0.695576</td>\n",
              "      <td>0.0</td>\n",
              "      <td>-0.005760</td>\n",
              "      <td>-0.005760</td>\n",
              "      <td>1</td>\n",
              "    </tr>\n",
              "    <tr>\n",
              "      <th>3</th>\n",
              "      <td>-0.811476</td>\n",
              "      <td>-0.590990</td>\n",
              "      <td>0.105307</td>\n",
              "      <td>0.851947</td>\n",
              "      <td>1.401940</td>\n",
              "      <td>-0.920251</td>\n",
              "      <td>-0.196075</td>\n",
              "      <td>0.695576</td>\n",
              "      <td>0.0</td>\n",
              "      <td>-0.256357</td>\n",
              "      <td>-0.256357</td>\n",
              "      <td>1</td>\n",
              "    </tr>\n",
              "    <tr>\n",
              "      <th>4</th>\n",
              "      <td>-0.099322</td>\n",
              "      <td>1.692884</td>\n",
              "      <td>-0.220491</td>\n",
              "      <td>-1.486293</td>\n",
              "      <td>-1.232437</td>\n",
              "      <td>1.141814</td>\n",
              "      <td>0.075398</td>\n",
              "      <td>0.695576</td>\n",
              "      <td>0.0</td>\n",
              "      <td>-0.472010</td>\n",
              "      <td>-0.472010</td>\n",
              "      <td>1</td>\n",
              "    </tr>\n",
              "    <tr>\n",
              "      <th>...</th>\n",
              "      <td>...</td>\n",
              "      <td>...</td>\n",
              "      <td>...</td>\n",
              "      <td>...</td>\n",
              "      <td>...</td>\n",
              "      <td>...</td>\n",
              "      <td>...</td>\n",
              "      <td>...</td>\n",
              "      <td>...</td>\n",
              "      <td>...</td>\n",
              "      <td>...</td>\n",
              "      <td>...</td>\n",
              "    </tr>\n",
              "    <tr>\n",
              "      <th>14995</th>\n",
              "      <td>-0.099322</td>\n",
              "      <td>1.121915</td>\n",
              "      <td>0.064554</td>\n",
              "      <td>-0.357487</td>\n",
              "      <td>1.045998</td>\n",
              "      <td>0.194199</td>\n",
              "      <td>-0.356948</td>\n",
              "      <td>-1.437657</td>\n",
              "      <td>0.0</td>\n",
              "      <td>-0.381655</td>\n",
              "      <td>-0.381655</td>\n",
              "      <td>4</td>\n",
              "    </tr>\n",
              "    <tr>\n",
              "      <th>14996</th>\n",
              "      <td>-0.455399</td>\n",
              "      <td>-0.020022</td>\n",
              "      <td>-0.124147</td>\n",
              "      <td>-0.357487</td>\n",
              "      <td>-1.286491</td>\n",
              "      <td>-0.920251</td>\n",
              "      <td>0.294085</td>\n",
              "      <td>0.695576</td>\n",
              "      <td>0.0</td>\n",
              "      <td>-0.347710</td>\n",
              "      <td>-0.347710</td>\n",
              "      <td>1</td>\n",
              "    </tr>\n",
              "    <tr>\n",
              "      <th>14997</th>\n",
              "      <td>0.612833</td>\n",
              "      <td>1.407399</td>\n",
              "      <td>0.477394</td>\n",
              "      <td>-0.841261</td>\n",
              "      <td>-1.429276</td>\n",
              "      <td>-0.049379</td>\n",
              "      <td>2.272317</td>\n",
              "      <td>-1.437657</td>\n",
              "      <td>0.0</td>\n",
              "      <td>-0.508451</td>\n",
              "      <td>-0.508451</td>\n",
              "      <td>3</td>\n",
              "    </tr>\n",
              "    <tr>\n",
              "      <th>14998</th>\n",
              "      <td>-1.167553</td>\n",
              "      <td>1.121915</td>\n",
              "      <td>0.203423</td>\n",
              "      <td>-0.034971</td>\n",
              "      <td>-1.653652</td>\n",
              "      <td>-0.726724</td>\n",
              "      <td>0.354412</td>\n",
              "      <td>0.695576</td>\n",
              "      <td>0.0</td>\n",
              "      <td>-0.278821</td>\n",
              "      <td>-0.278821</td>\n",
              "      <td>1</td>\n",
              "    </tr>\n",
              "    <tr>\n",
              "      <th>14999</th>\n",
              "      <td>-0.455399</td>\n",
              "      <td>-1.447443</td>\n",
              "      <td>0.105307</td>\n",
              "      <td>0.851947</td>\n",
              "      <td>-1.286491</td>\n",
              "      <td>-0.920251</td>\n",
              "      <td>0.238785</td>\n",
              "      <td>0.695576</td>\n",
              "      <td>0.0</td>\n",
              "      <td>1.884697</td>\n",
              "      <td>1.884697</td>\n",
              "      <td>0</td>\n",
              "    </tr>\n",
              "  </tbody>\n",
              "</table>\n",
              "<p>15000 rows × 12 columns</p>\n",
              "</div>\n",
              "      <button class=\"colab-df-convert\" onclick=\"convertToInteractive('df-ff587bd1-d563-4dd5-abdd-ee5d4890ffec')\"\n",
              "              title=\"Convert this dataframe to an interactive table.\"\n",
              "              style=\"display:none;\">\n",
              "        \n",
              "  <svg xmlns=\"http://www.w3.org/2000/svg\" height=\"24px\"viewBox=\"0 0 24 24\"\n",
              "       width=\"24px\">\n",
              "    <path d=\"M0 0h24v24H0V0z\" fill=\"none\"/>\n",
              "    <path d=\"M18.56 5.44l.94 2.06.94-2.06 2.06-.94-2.06-.94-.94-2.06-.94 2.06-2.06.94zm-11 1L8.5 8.5l.94-2.06 2.06-.94-2.06-.94L8.5 2.5l-.94 2.06-2.06.94zm10 10l.94 2.06.94-2.06 2.06-.94-2.06-.94-.94-2.06-.94 2.06-2.06.94z\"/><path d=\"M17.41 7.96l-1.37-1.37c-.4-.4-.92-.59-1.43-.59-.52 0-1.04.2-1.43.59L10.3 9.45l-7.72 7.72c-.78.78-.78 2.05 0 2.83L4 21.41c.39.39.9.59 1.41.59.51 0 1.02-.2 1.41-.59l7.78-7.78 2.81-2.81c.8-.78.8-2.07 0-2.86zM5.41 20L4 18.59l7.72-7.72 1.47 1.35L5.41 20z\"/>\n",
              "  </svg>\n",
              "      </button>\n",
              "      \n",
              "  <style>\n",
              "    .colab-df-container {\n",
              "      display:flex;\n",
              "      flex-wrap:wrap;\n",
              "      gap: 12px;\n",
              "    }\n",
              "\n",
              "    .colab-df-convert {\n",
              "      background-color: #E8F0FE;\n",
              "      border: none;\n",
              "      border-radius: 50%;\n",
              "      cursor: pointer;\n",
              "      display: none;\n",
              "      fill: #1967D2;\n",
              "      height: 32px;\n",
              "      padding: 0 0 0 0;\n",
              "      width: 32px;\n",
              "    }\n",
              "\n",
              "    .colab-df-convert:hover {\n",
              "      background-color: #E2EBFA;\n",
              "      box-shadow: 0px 1px 2px rgba(60, 64, 67, 0.3), 0px 1px 3px 1px rgba(60, 64, 67, 0.15);\n",
              "      fill: #174EA6;\n",
              "    }\n",
              "\n",
              "    [theme=dark] .colab-df-convert {\n",
              "      background-color: #3B4455;\n",
              "      fill: #D2E3FC;\n",
              "    }\n",
              "\n",
              "    [theme=dark] .colab-df-convert:hover {\n",
              "      background-color: #434B5C;\n",
              "      box-shadow: 0px 1px 3px 1px rgba(0, 0, 0, 0.15);\n",
              "      filter: drop-shadow(0px 1px 2px rgba(0, 0, 0, 0.3));\n",
              "      fill: #FFFFFF;\n",
              "    }\n",
              "  </style>\n",
              "\n",
              "      <script>\n",
              "        const buttonEl =\n",
              "          document.querySelector('#df-ff587bd1-d563-4dd5-abdd-ee5d4890ffec button.colab-df-convert');\n",
              "        buttonEl.style.display =\n",
              "          google.colab.kernel.accessAllowed ? 'block' : 'none';\n",
              "\n",
              "        async function convertToInteractive(key) {\n",
              "          const element = document.querySelector('#df-ff587bd1-d563-4dd5-abdd-ee5d4890ffec');\n",
              "          const dataTable =\n",
              "            await google.colab.kernel.invokeFunction('convertToInteractive',\n",
              "                                                     [key], {});\n",
              "          if (!dataTable) return;\n",
              "\n",
              "          const docLinkHtml = 'Like what you see? Visit the ' +\n",
              "            '<a target=\"_blank\" href=https://colab.research.google.com/notebooks/data_table.ipynb>data table notebook</a>'\n",
              "            + ' to learn more about interactive tables.';\n",
              "          element.innerHTML = '';\n",
              "          dataTable['output_type'] = 'display_data';\n",
              "          await google.colab.output.renderOutput(dataTable, element);\n",
              "          const docLink = document.createElement('div');\n",
              "          docLink.innerHTML = docLinkHtml;\n",
              "          element.appendChild(docLink);\n",
              "        }\n",
              "      </script>\n",
              "    </div>\n",
              "  </div>\n",
              "  "
            ],
            "text/plain": [
              "           Year     Month  usg_apt_id   usg_wac  fg_apt_id    fg_wac  \\\n",
              "0      3.105373 -0.305506    0.327895 -0.236544  -1.286491 -0.920251   \n",
              "1      0.612833 -0.020022    0.042628 -0.357487   1.290262  1.759100   \n",
              "2     -0.099322  1.692884   -0.349615  0.045658  -1.603167 -0.489820   \n",
              "3     -0.811476 -0.590990    0.105307  0.851947   1.401940 -0.920251   \n",
              "4     -0.099322  1.692884   -0.220491 -1.486293  -1.232437  1.141814   \n",
              "...         ...       ...         ...       ...        ...       ...   \n",
              "14995 -0.099322  1.121915    0.064554 -0.357487   1.045998  0.194199   \n",
              "14996 -0.455399 -0.020022   -0.124147 -0.357487  -1.286491 -0.920251   \n",
              "14997  0.612833  1.407399    0.477394 -0.841261  -1.429276 -0.049379   \n",
              "14998 -1.167553  1.121915    0.203423 -0.034971  -1.653652 -0.726724   \n",
              "14999 -0.455399 -1.447443    0.105307  0.851947  -1.286491 -0.920251   \n",
              "\n",
              "       airlineid  carriergroup  Scheduled   Charter     Total  cluster  \n",
              "0      -1.880212     -1.437657        0.0 -0.352702 -0.352702        1  \n",
              "1       0.206107     -1.437657        0.0 -0.168997 -0.168997        4  \n",
              "2       0.155834      0.695576        0.0 -0.005760 -0.005760        1  \n",
              "3      -0.196075      0.695576        0.0 -0.256357 -0.256357        1  \n",
              "4       0.075398      0.695576        0.0 -0.472010 -0.472010        1  \n",
              "...          ...           ...        ...       ...       ...      ...  \n",
              "14995  -0.356948     -1.437657        0.0 -0.381655 -0.381655        4  \n",
              "14996   0.294085      0.695576        0.0 -0.347710 -0.347710        1  \n",
              "14997   2.272317     -1.437657        0.0 -0.508451 -0.508451        3  \n",
              "14998   0.354412      0.695576        0.0 -0.278821 -0.278821        1  \n",
              "14999   0.238785      0.695576        0.0  1.884697  1.884697        0  \n",
              "\n",
              "[15000 rows x 12 columns]"
            ]
          },
          "metadata": {},
          "execution_count": 100
        }
      ]
    },
    {
      "cell_type": "code",
      "source": [
        "# defining the kmeans function with initialization as k-means++\n",
        "kmeans = KMeans(n_clusters=5, init='k-means++')\n",
        "\n",
        "# fitting the k means algorithm on scaled data\n",
        "kmeans.fit(data_scaled)"
      ],
      "metadata": {
        "colab": {
          "base_uri": "https://localhost:8080/"
        },
        "id": "QPGAHQmtJeLq",
        "outputId": "64ef7748-e4e9-4949-d4f0-2a1b708dc400"
      },
      "execution_count": 101,
      "outputs": [
        {
          "output_type": "execute_result",
          "data": {
            "text/plain": [
              "KMeans(n_clusters=5)"
            ]
          },
          "metadata": {},
          "execution_count": 101
        }
      ]
    },
    {
      "cell_type": "code",
      "source": [
        "# inertia on the fitted data\n",
        "kmeans.inertia_"
      ],
      "metadata": {
        "colab": {
          "base_uri": "https://localhost:8080/"
        },
        "id": "U-8rYoiWJgNr",
        "outputId": "0388a751-19fc-4fd7-8f51-8903fb269b97"
      },
      "execution_count": 102,
      "outputs": [
        {
          "output_type": "execute_result",
          "data": {
            "text/plain": [
              "87785.04383721764"
            ]
          },
          "metadata": {},
          "execution_count": 102
        }
      ]
    },
    {
      "cell_type": "code",
      "source": [
        "df1 = frame[frame.cluster==0]\n",
        "df2 = frame[frame.cluster==1]\n",
        "df3 = frame[frame.cluster==2]\n",
        "df4 = frame[frame.cluster==3]\n",
        "df5 = frame[frame.cluster==4]"
      ],
      "metadata": {
        "id": "m7vpE_WSJh9I"
      },
      "execution_count": 103,
      "outputs": []
    },
    {
      "cell_type": "markdown",
      "source": [
        "Scatter plot for number of clusters = 5"
      ],
      "metadata": {
        "id": "QD56Ekzxw3Lj"
      }
    },
    {
      "cell_type": "code",
      "source": [
        "#Plot for cluster by kmeans\n",
        "fig = plt.figure(figsize=(12,7))\n",
        "plt.scatter(df1['airlineid'],df1['Total'],color='blue', marker='*')\n",
        "plt.scatter(df2['airlineid'],df2['Total'],color='green', marker='*')\n",
        "plt.scatter(df3['airlineid'],df3['Total'],color='yellow', marker='*')\n",
        "plt.scatter(df4['airlineid'],df4['Total'],color='red', marker='*')\n",
        "plt.scatter(df5['airlineid'],df5['Total'],color='orange',marker='*')\n",
        "plt.title('Total metric flown per airline')\n",
        "plt.xlabel('airlineid')\n",
        "plt.ylabel('Total')"
      ],
      "metadata": {
        "colab": {
          "base_uri": "https://localhost:8080/",
          "height": 475
        },
        "id": "Y6x-JWG1JjR3",
        "outputId": "50c6df11-5654-49c3-dfdf-e6af740921ef"
      },
      "execution_count": 104,
      "outputs": [
        {
          "output_type": "execute_result",
          "data": {
            "text/plain": [
              "Text(0, 0.5, 'Total')"
            ]
          },
          "metadata": {},
          "execution_count": 104
        },
        {
          "output_type": "display_data",
          "data": {
            "image/png": "[encoded data removed]",
            "text/plain": [
              "<Figure size 864x504 with 1 Axes>"
            ]
          },
          "metadata": {
            "needs_background": "light"
          }
        }
      ]
    },
    {
      "cell_type": "code",
      "source": [
        "print(f'Silhouette Score(n=5): {silhouette_score(data_scaled,pred)}')"
      ],
      "metadata": {
        "colab": {
          "base_uri": "https://localhost:8080/"
        },
        "id": "6Wzla7oJy_fH",
        "outputId": "ac0fa62b-c9e3-464a-b8c3-64a845a5f1a8"
      },
      "execution_count": 105,
      "outputs": [
        {
          "output_type": "stream",
          "name": "stdout",
          "text": [
            "Silhouette Score(n=5): 0.3319439293681404\n"
          ]
        }
      ]
    },
    {
      "cell_type": "code",
      "source": [
        "# k means using 6 clusters and k-means++ initialization\n",
        "kmeans = KMeans(n_clusters = 6, init='k-means++')\n",
        "kmeans.fit(data_scaled)\n",
        "pred = kmeans.predict(data_scaled)"
      ],
      "metadata": {
        "id": "yl-GpK7WJk-N"
      },
      "execution_count": 106,
      "outputs": []
    },
    {
      "cell_type": "code",
      "source": [
        "frame = pd.DataFrame(data_scaled)\n",
        "frame['cluster'] = pred\n",
        "frame['cluster'].value_counts()"
      ],
      "metadata": {
        "colab": {
          "base_uri": "https://localhost:8080/"
        },
        "id": "knOdXBO0JrEr",
        "outputId": "8c41e971-e956-4bc2-f5c7-5c6d0b78420d"
      },
      "execution_count": 107,
      "outputs": [
        {
          "output_type": "execute_result",
          "data": {
            "text/plain": [
              "0    7472\n",
              "2    3459\n",
              "1    1999\n",
              "5    1363\n",
              "3     671\n",
              "4      36\n",
              "Name: cluster, dtype: int64"
            ]
          },
          "metadata": {},
          "execution_count": 107
        }
      ]
    },
    {
      "cell_type": "code",
      "source": [
        "frame"
      ],
      "metadata": {
        "colab": {
          "base_uri": "https://localhost:8080/",
          "height": 424
        },
        "id": "Tk8RVMbQJt5x",
        "outputId": "5c3da9ed-f9e8-4dd6-8581-04ba3c8c6708"
      },
      "execution_count": 108,
      "outputs": [
        {
          "output_type": "execute_result",
          "data": {
            "text/html": [
              "\n",
              "  <div id=\"df-7be5aa81-764a-4849-9a19-911c6f9f237c\">\n",
              "    <div class=\"colab-df-container\">\n",
              "      <div>\n",
              "<style scoped>\n",
              "    .dataframe tbody tr th:only-of-type {\n",
              "        vertical-align: middle;\n",
              "    }\n",
              "\n",
              "    .dataframe tbody tr th {\n",
              "        vertical-align: top;\n",
              "    }\n",
              "\n",
              "    .dataframe thead th {\n",
              "        text-align: right;\n",
              "    }\n",
              "</style>\n",
              "<table border=\"1\" class=\"dataframe\">\n",
              "  <thead>\n",
              "    <tr style=\"text-align: right;\">\n",
              "      <th></th>\n",
              "      <th>Year</th>\n",
              "      <th>Month</th>\n",
              "      <th>usg_apt_id</th>\n",
              "      <th>usg_wac</th>\n",
              "      <th>fg_apt_id</th>\n",
              "      <th>fg_wac</th>\n",
              "      <th>airlineid</th>\n",
              "      <th>carriergroup</th>\n",
              "      <th>Scheduled</th>\n",
              "      <th>Charter</th>\n",
              "      <th>Total</th>\n",
              "      <th>cluster</th>\n",
              "    </tr>\n",
              "  </thead>\n",
              "  <tbody>\n",
              "    <tr>\n",
              "      <th>0</th>\n",
              "      <td>3.105373</td>\n",
              "      <td>-0.305506</td>\n",
              "      <td>0.327895</td>\n",
              "      <td>-0.236544</td>\n",
              "      <td>-1.286491</td>\n",
              "      <td>-0.920251</td>\n",
              "      <td>-1.880212</td>\n",
              "      <td>-1.437657</td>\n",
              "      <td>0.0</td>\n",
              "      <td>-0.352702</td>\n",
              "      <td>-0.352702</td>\n",
              "      <td>1</td>\n",
              "    </tr>\n",
              "    <tr>\n",
              "      <th>1</th>\n",
              "      <td>0.612833</td>\n",
              "      <td>-0.020022</td>\n",
              "      <td>0.042628</td>\n",
              "      <td>-0.357487</td>\n",
              "      <td>1.290262</td>\n",
              "      <td>1.759100</td>\n",
              "      <td>0.206107</td>\n",
              "      <td>-1.437657</td>\n",
              "      <td>0.0</td>\n",
              "      <td>-0.168997</td>\n",
              "      <td>-0.168997</td>\n",
              "      <td>2</td>\n",
              "    </tr>\n",
              "    <tr>\n",
              "      <th>2</th>\n",
              "      <td>-0.099322</td>\n",
              "      <td>1.692884</td>\n",
              "      <td>-0.349615</td>\n",
              "      <td>0.045658</td>\n",
              "      <td>-1.603167</td>\n",
              "      <td>-0.489820</td>\n",
              "      <td>0.155834</td>\n",
              "      <td>0.695576</td>\n",
              "      <td>0.0</td>\n",
              "      <td>-0.005760</td>\n",
              "      <td>-0.005760</td>\n",
              "      <td>0</td>\n",
              "    </tr>\n",
              "    <tr>\n",
              "      <th>3</th>\n",
              "      <td>-0.811476</td>\n",
              "      <td>-0.590990</td>\n",
              "      <td>0.105307</td>\n",
              "      <td>0.851947</td>\n",
              "      <td>1.401940</td>\n",
              "      <td>-0.920251</td>\n",
              "      <td>-0.196075</td>\n",
              "      <td>0.695576</td>\n",
              "      <td>0.0</td>\n",
              "      <td>-0.256357</td>\n",
              "      <td>-0.256357</td>\n",
              "      <td>0</td>\n",
              "    </tr>\n",
              "    <tr>\n",
              "      <th>4</th>\n",
              "      <td>-0.099322</td>\n",
              "      <td>1.692884</td>\n",
              "      <td>-0.220491</td>\n",
              "      <td>-1.486293</td>\n",
              "      <td>-1.232437</td>\n",
              "      <td>1.141814</td>\n",
              "      <td>0.075398</td>\n",
              "      <td>0.695576</td>\n",
              "      <td>0.0</td>\n",
              "      <td>-0.472010</td>\n",
              "      <td>-0.472010</td>\n",
              "      <td>0</td>\n",
              "    </tr>\n",
              "    <tr>\n",
              "      <th>...</th>\n",
              "      <td>...</td>\n",
              "      <td>...</td>\n",
              "      <td>...</td>\n",
              "      <td>...</td>\n",
              "      <td>...</td>\n",
              "      <td>...</td>\n",
              "      <td>...</td>\n",
              "      <td>...</td>\n",
              "      <td>...</td>\n",
              "      <td>...</td>\n",
              "      <td>...</td>\n",
              "      <td>...</td>\n",
              "    </tr>\n",
              "    <tr>\n",
              "      <th>14995</th>\n",
              "      <td>-0.099322</td>\n",
              "      <td>1.121915</td>\n",
              "      <td>0.064554</td>\n",
              "      <td>-0.357487</td>\n",
              "      <td>1.045998</td>\n",
              "      <td>0.194199</td>\n",
              "      <td>-0.356948</td>\n",
              "      <td>-1.437657</td>\n",
              "      <td>0.0</td>\n",
              "      <td>-0.381655</td>\n",
              "      <td>-0.381655</td>\n",
              "      <td>2</td>\n",
              "    </tr>\n",
              "    <tr>\n",
              "      <th>14996</th>\n",
              "      <td>-0.455399</td>\n",
              "      <td>-0.020022</td>\n",
              "      <td>-0.124147</td>\n",
              "      <td>-0.357487</td>\n",
              "      <td>-1.286491</td>\n",
              "      <td>-0.920251</td>\n",
              "      <td>0.294085</td>\n",
              "      <td>0.695576</td>\n",
              "      <td>0.0</td>\n",
              "      <td>-0.347710</td>\n",
              "      <td>-0.347710</td>\n",
              "      <td>0</td>\n",
              "    </tr>\n",
              "    <tr>\n",
              "      <th>14997</th>\n",
              "      <td>0.612833</td>\n",
              "      <td>1.407399</td>\n",
              "      <td>0.477394</td>\n",
              "      <td>-0.841261</td>\n",
              "      <td>-1.429276</td>\n",
              "      <td>-0.049379</td>\n",
              "      <td>2.272317</td>\n",
              "      <td>-1.437657</td>\n",
              "      <td>0.0</td>\n",
              "      <td>-0.508451</td>\n",
              "      <td>-0.508451</td>\n",
              "      <td>5</td>\n",
              "    </tr>\n",
              "    <tr>\n",
              "      <th>14998</th>\n",
              "      <td>-1.167553</td>\n",
              "      <td>1.121915</td>\n",
              "      <td>0.203423</td>\n",
              "      <td>-0.034971</td>\n",
              "      <td>-1.653652</td>\n",
              "      <td>-0.726724</td>\n",
              "      <td>0.354412</td>\n",
              "      <td>0.695576</td>\n",
              "      <td>0.0</td>\n",
              "      <td>-0.278821</td>\n",
              "      <td>-0.278821</td>\n",
              "      <td>0</td>\n",
              "    </tr>\n",
              "    <tr>\n",
              "      <th>14999</th>\n",
              "      <td>-0.455399</td>\n",
              "      <td>-1.447443</td>\n",
              "      <td>0.105307</td>\n",
              "      <td>0.851947</td>\n",
              "      <td>-1.286491</td>\n",
              "      <td>-0.920251</td>\n",
              "      <td>0.238785</td>\n",
              "      <td>0.695576</td>\n",
              "      <td>0.0</td>\n",
              "      <td>1.884697</td>\n",
              "      <td>1.884697</td>\n",
              "      <td>3</td>\n",
              "    </tr>\n",
              "  </tbody>\n",
              "</table>\n",
              "<p>15000 rows × 12 columns</p>\n",
              "</div>\n",
              "      <button class=\"colab-df-convert\" onclick=\"convertToInteractive('df-7be5aa81-764a-4849-9a19-911c6f9f237c')\"\n",
              "              title=\"Convert this dataframe to an interactive table.\"\n",
              "              style=\"display:none;\">\n",
              "        \n",
              "  <svg xmlns=\"http://www.w3.org/2000/svg\" height=\"24px\"viewBox=\"0 0 24 24\"\n",
              "       width=\"24px\">\n",
              "    <path d=\"M0 0h24v24H0V0z\" fill=\"none\"/>\n",
              "    <path d=\"M18.56 5.44l.94 2.06.94-2.06 2.06-.94-2.06-.94-.94-2.06-.94 2.06-2.06.94zm-11 1L8.5 8.5l.94-2.06 2.06-.94-2.06-.94L8.5 2.5l-.94 2.06-2.06.94zm10 10l.94 2.06.94-2.06 2.06-.94-2.06-.94-.94-2.06-.94 2.06-2.06.94z\"/><path d=\"M17.41 7.96l-1.37-1.37c-.4-.4-.92-.59-1.43-.59-.52 0-1.04.2-1.43.59L10.3 9.45l-7.72 7.72c-.78.78-.78 2.05 0 2.83L4 21.41c.39.39.9.59 1.41.59.51 0 1.02-.2 1.41-.59l7.78-7.78 2.81-2.81c.8-.78.8-2.07 0-2.86zM5.41 20L4 18.59l7.72-7.72 1.47 1.35L5.41 20z\"/>\n",
              "  </svg>\n",
              "      </button>\n",
              "      \n",
              "  <style>\n",
              "    .colab-df-container {\n",
              "      display:flex;\n",
              "      flex-wrap:wrap;\n",
              "      gap: 12px;\n",
              "    }\n",
              "\n",
              "    .colab-df-convert {\n",
              "      background-color: #E8F0FE;\n",
              "      border: none;\n",
              "      border-radius: 50%;\n",
              "      cursor: pointer;\n",
              "      display: none;\n",
              "      fill: #1967D2;\n",
              "      height: 32px;\n",
              "      padding: 0 0 0 0;\n",
              "      width: 32px;\n",
              "    }\n",
              "\n",
              "    .colab-df-convert:hover {\n",
              "      background-color: #E2EBFA;\n",
              "      box-shadow: 0px 1px 2px rgba(60, 64, 67, 0.3), 0px 1px 3px 1px rgba(60, 64, 67, 0.15);\n",
              "      fill: #174EA6;\n",
              "    }\n",
              "\n",
              "    [theme=dark] .colab-df-convert {\n",
              "      background-color: #3B4455;\n",
              "      fill: #D2E3FC;\n",
              "    }\n",
              "\n",
              "    [theme=dark] .colab-df-convert:hover {\n",
              "      background-color: #434B5C;\n",
              "      box-shadow: 0px 1px 3px 1px rgba(0, 0, 0, 0.15);\n",
              "      filter: drop-shadow(0px 1px 2px rgba(0, 0, 0, 0.3));\n",
              "      fill: #FFFFFF;\n",
              "    }\n",
              "  </style>\n",
              "\n",
              "      <script>\n",
              "        const buttonEl =\n",
              "          document.querySelector('#df-7be5aa81-764a-4849-9a19-911c6f9f237c button.colab-df-convert');\n",
              "        buttonEl.style.display =\n",
              "          google.colab.kernel.accessAllowed ? 'block' : 'none';\n",
              "\n",
              "        async function convertToInteractive(key) {\n",
              "          const element = document.querySelector('#df-7be5aa81-764a-4849-9a19-911c6f9f237c');\n",
              "          const dataTable =\n",
              "            await google.colab.kernel.invokeFunction('convertToInteractive',\n",
              "                                                     [key], {});\n",
              "          if (!dataTable) return;\n",
              "\n",
              "          const docLinkHtml = 'Like what you see? Visit the ' +\n",
              "            '<a target=\"_blank\" href=https://colab.research.google.com/notebooks/data_table.ipynb>data table notebook</a>'\n",
              "            + ' to learn more about interactive tables.';\n",
              "          element.innerHTML = '';\n",
              "          dataTable['output_type'] = 'display_data';\n",
              "          await google.colab.output.renderOutput(dataTable, element);\n",
              "          const docLink = document.createElement('div');\n",
              "          docLink.innerHTML = docLinkHtml;\n",
              "          element.appendChild(docLink);\n",
              "        }\n",
              "      </script>\n",
              "    </div>\n",
              "  </div>\n",
              "  "
            ],
            "text/plain": [
              "           Year     Month  usg_apt_id   usg_wac  fg_apt_id    fg_wac  \\\n",
              "0      3.105373 -0.305506    0.327895 -0.236544  -1.286491 -0.920251   \n",
              "1      0.612833 -0.020022    0.042628 -0.357487   1.290262  1.759100   \n",
              "2     -0.099322  1.692884   -0.349615  0.045658  -1.603167 -0.489820   \n",
              "3     -0.811476 -0.590990    0.105307  0.851947   1.401940 -0.920251   \n",
              "4     -0.099322  1.692884   -0.220491 -1.486293  -1.232437  1.141814   \n",
              "...         ...       ...         ...       ...        ...       ...   \n",
              "14995 -0.099322  1.121915    0.064554 -0.357487   1.045998  0.194199   \n",
              "14996 -0.455399 -0.020022   -0.124147 -0.357487  -1.286491 -0.920251   \n",
              "14997  0.612833  1.407399    0.477394 -0.841261  -1.429276 -0.049379   \n",
              "14998 -1.167553  1.121915    0.203423 -0.034971  -1.653652 -0.726724   \n",
              "14999 -0.455399 -1.447443    0.105307  0.851947  -1.286491 -0.920251   \n",
              "\n",
              "       airlineid  carriergroup  Scheduled   Charter     Total  cluster  \n",
              "0      -1.880212     -1.437657        0.0 -0.352702 -0.352702        1  \n",
              "1       0.206107     -1.437657        0.0 -0.168997 -0.168997        2  \n",
              "2       0.155834      0.695576        0.0 -0.005760 -0.005760        0  \n",
              "3      -0.196075      0.695576        0.0 -0.256357 -0.256357        0  \n",
              "4       0.075398      0.695576        0.0 -0.472010 -0.472010        0  \n",
              "...          ...           ...        ...       ...       ...      ...  \n",
              "14995  -0.356948     -1.437657        0.0 -0.381655 -0.381655        2  \n",
              "14996   0.294085      0.695576        0.0 -0.347710 -0.347710        0  \n",
              "14997   2.272317     -1.437657        0.0 -0.508451 -0.508451        5  \n",
              "14998   0.354412      0.695576        0.0 -0.278821 -0.278821        0  \n",
              "14999   0.238785      0.695576        0.0  1.884697  1.884697        3  \n",
              "\n",
              "[15000 rows x 12 columns]"
            ]
          },
          "metadata": {},
          "execution_count": 108
        }
      ]
    },
    {
      "cell_type": "markdown",
      "source": [
        "Scatter plot for number of clusters = 6"
      ],
      "metadata": {
        "id": "ADMK9jJxxA_N"
      }
    },
    {
      "cell_type": "code",
      "source": [
        "# Defining the kmeans function with initialization as k-means++\n",
        "kmeans = KMeans(n_clusters=6, init='k-means++')\n",
        "\n",
        "# Fitting the k means algorithm on scaled data\n",
        "kmeans.fit(data_scaled)\n",
        "\n",
        "# Prediction\n",
        "pred = kmeans.predict(data_scaled)"
      ],
      "metadata": {
        "id": "yKWTFM-_Jvd_"
      },
      "execution_count": 109,
      "outputs": []
    },
    {
      "cell_type": "code",
      "source": [
        "# inertia on the fitted data\n",
        "kmeans.inertia_"
      ],
      "metadata": {
        "colab": {
          "base_uri": "https://localhost:8080/"
        },
        "id": "AiiW_M1QJxL8",
        "outputId": "3feeade5-db9c-4f55-d545-1496a84efd72"
      },
      "execution_count": 110,
      "outputs": [
        {
          "output_type": "execute_result",
          "data": {
            "text/plain": [
              "78549.18950404655"
            ]
          },
          "metadata": {},
          "execution_count": 110
        }
      ]
    },
    {
      "cell_type": "code",
      "source": [
        "# Data Frames\n",
        "df1 = frame[frame.cluster==0]\n",
        "df2 = frame[frame.cluster==1]\n",
        "df3 = frame[frame.cluster==2]\n",
        "df4 = frame[frame.cluster==3]\n",
        "df5 = frame[frame.cluster==4]\n",
        "df6 = frame[frame.cluster==5]\n",
        "#Plot for cluster by kmeans\n",
        "fig = plt.figure(figsize=(12,7))\n",
        "plt.scatter(df1['airlineid'],df1['Total'],color='blue', marker='*')\n",
        "plt.scatter(df2['airlineid'],df2['Total'],color='green', marker='*')\n",
        "plt.scatter(df3['airlineid'],df3['Total'],color='yellow', marker='*')\n",
        "plt.scatter(df4['airlineid'],df4['Total'],color='red', marker='*')\n",
        "plt.scatter(df5['airlineid'],df5['Total'],color='orange',marker='*')\n",
        "plt.scatter(df6['airlineid'],df6['Total'],color='aqua',marker='*')\n",
        "plt.title('Total metric flown per airline')\n",
        "plt.xlabel('airlineid')\n",
        "plt.ylabel('Total')"
      ],
      "metadata": {
        "colab": {
          "base_uri": "https://localhost:8080/",
          "height": 475
        },
        "id": "Xeo6RDOnJyn2",
        "outputId": "74997c51-2e55-43f8-fd5f-d58ec0c9e132"
      },
      "execution_count": 111,
      "outputs": [
        {
          "output_type": "execute_result",
          "data": {
            "text/plain": [
              "Text(0, 0.5, 'Total')"
            ]
          },
          "metadata": {},
          "execution_count": 111
        },
        {
          "output_type": "display_data",
          "data": {
            "image/png": "[encoded data removed]",
            "text/plain": [
              "<Figure size 864x504 with 1 Axes>"
            ]
          },
          "metadata": {
            "needs_background": "light"
          }
        }
      ]
    },
    {
      "cell_type": "code",
      "source": [
        "print(f'Silhouette Score(n=6): {silhouette_score(data_scaled,pred)}')"
      ],
      "metadata": {
        "colab": {
          "base_uri": "https://localhost:8080/"
        },
        "id": "G73jw5FTzDEt",
        "outputId": "94ea8d7f-4eed-4ba7-9658-7cb684e7b4eb"
      },
      "execution_count": 112,
      "outputs": [
        {
          "output_type": "stream",
          "name": "stdout",
          "text": [
            "Silhouette Score(n=6): 0.2888648098698622\n"
          ]
        }
      ]
    },
    {
      "cell_type": "markdown",
      "source": [
        "Scatter plot for number of clusters = 7"
      ],
      "metadata": {
        "id": "5y4VA4G6xJ35"
      }
    },
    {
      "cell_type": "code",
      "source": [
        "# defining the kmeans function with initialization as k-means++\n",
        "kmeans = KMeans(n_clusters=7, init='k-means++')\n",
        "\n",
        "# fitting the k means algorithm on scaled data\n",
        "kmeans.fit(data_scaled)\n",
        "\n",
        "pred = kmeans.predict(data_scaled)"
      ],
      "metadata": {
        "id": "71y7jKSYJ0Ky"
      },
      "execution_count": 113,
      "outputs": []
    },
    {
      "cell_type": "code",
      "source": [
        "frame = pd.DataFrame(data_scaled)\n",
        "frame['cluster'] = pred\n",
        "frame['cluster'].value_counts()"
      ],
      "metadata": {
        "colab": {
          "base_uri": "https://localhost:8080/"
        },
        "id": "ddkzaS61J2UO",
        "outputId": "5b0862ca-01a9-4ffe-99cd-7894a917bf65"
      },
      "execution_count": 114,
      "outputs": [
        {
          "output_type": "execute_result",
          "data": {
            "text/plain": [
              "5    4505\n",
              "0    3047\n",
              "1    2970\n",
              "6    2408\n",
              "2    1363\n",
              "3     671\n",
              "4      36\n",
              "Name: cluster, dtype: int64"
            ]
          },
          "metadata": {},
          "execution_count": 114
        }
      ]
    },
    {
      "cell_type": "markdown",
      "source": [
        "K Means - Inertia"
      ],
      "metadata": {
        "id": "NZKDlJnGxNSz"
      }
    },
    {
      "cell_type": "code",
      "source": [
        "# inertia on the fitted data\n",
        "kmeans.inertia_"
      ],
      "metadata": {
        "colab": {
          "base_uri": "https://localhost:8080/"
        },
        "id": "3ph2mRRRJ7xu",
        "outputId": "7576bee8-c0e7-4fb9-c0c9-1df0cd32cfa7"
      },
      "execution_count": 116,
      "outputs": [
        {
          "output_type": "execute_result",
          "data": {
            "text/plain": [
              "73424.129743845"
            ]
          },
          "metadata": {},
          "execution_count": 116
        }
      ]
    },
    {
      "cell_type": "code",
      "source": [
        "# Data Frames\n",
        "df1 = frame[frame.cluster==0]\n",
        "df2 = frame[frame.cluster==1]\n",
        "df3 = frame[frame.cluster==2]\n",
        "df4 = frame[frame.cluster==3]\n",
        "df5 = frame[frame.cluster==4]\n",
        "df6 = frame[frame.cluster==5]\n",
        "df7 = frame[frame.cluster==6]\n",
        "#Plot for cluster by kmeans\n",
        "fig = plt.figure(figsize=(12,7))\n",
        "plt.scatter(df1['airlineid'],df1['Total'],color='blue', marker='*')\n",
        "plt.scatter(df2['airlineid'],df2['Total'],color='green', marker='*')\n",
        "plt.scatter(df3['airlineid'],df3['Total'],color='yellow', marker='*')\n",
        "plt.scatter(df4['airlineid'],df4['Total'],color='red', marker='*')\n",
        "plt.scatter(df5['airlineid'],df5['Total'],color='orange',marker='*')\n",
        "plt.scatter(df6['airlineid'],df6['Total'],color='aqua',marker='*')\n",
        "plt.scatter(df7['airlineid'],df7['Total'],color='purple',marker='*')\n",
        "plt.title('Total metric flown per airline')\n",
        "plt.xlabel('airlineid')\n",
        "plt.ylabel('Total')"
      ],
      "metadata": {
        "colab": {
          "base_uri": "https://localhost:8080/",
          "height": 475
        },
        "id": "Cm3eFqEQJ9XF",
        "outputId": "dfe32e68-871d-46f1-a497-a36c34299cef"
      },
      "execution_count": 117,
      "outputs": [
        {
          "output_type": "execute_result",
          "data": {
            "text/plain": [
              "Text(0, 0.5, 'Total')"
            ]
          },
          "metadata": {},
          "execution_count": 117
        },
        {
          "output_type": "display_data",
          "data": {
            "image/png": "[encoded data removed]",
            "text/plain": [
              "<Figure size 864x504 with 1 Axes>"
            ]
          },
          "metadata": {
            "needs_background": "light"
          }
        }
      ]
    },
    {
      "cell_type": "code",
      "source": [
        "print(f'Silhouette Score(n=7): {silhouette_score(data_scaled,pred)}')"
      ],
      "metadata": {
        "colab": {
          "base_uri": "https://localhost:8080/"
        },
        "id": "c564J0IFzFjj",
        "outputId": "30ba3cfe-2819-4dcb-8d5b-9df169003e7d"
      },
      "execution_count": 118,
      "outputs": [
        {
          "output_type": "stream",
          "name": "stdout",
          "text": [
            "Silhouette Score(n=7): 0.2937904247427518\n"
          ]
        }
      ]
    },
    {
      "cell_type": "markdown",
      "source": [
        "Scatter plot for number of clusters = 8"
      ],
      "metadata": {
        "id": "cjCT74GqxWEv"
      }
    },
    {
      "cell_type": "code",
      "source": [
        "# k means using 8 clusters and k-means++ initialization\n",
        "kmeans = KMeans(n_clusters = 8, init='k-means++')\n",
        "kmeans.fit(data_scaled)\n",
        "pred = kmeans.predict(data_scaled)"
      ],
      "metadata": {
        "id": "1LM_9wKyJ-rO"
      },
      "execution_count": 119,
      "outputs": []
    },
    {
      "cell_type": "code",
      "source": [
        "frame = pd.DataFrame(data_scaled)\n",
        "frame['cluster'] = pred\n",
        "frame['cluster'].value_counts()"
      ],
      "metadata": {
        "colab": {
          "base_uri": "https://localhost:8080/"
        },
        "id": "-u8A0DG8KB2E",
        "outputId": "76cfe85f-cede-4d48-8678-6c51122bd98a"
      },
      "execution_count": 120,
      "outputs": [
        {
          "output_type": "execute_result",
          "data": {
            "text/plain": [
              "1    4505\n",
              "0    3039\n",
              "4    2408\n",
              "5    1740\n",
              "7    1338\n",
              "2    1263\n",
              "3     671\n",
              "6      36\n",
              "Name: cluster, dtype: int64"
            ]
          },
          "metadata": {},
          "execution_count": 120
        }
      ]
    },
    {
      "cell_type": "code",
      "source": [
        "# inertia on the fitted data\n",
        "kmeans.inertia_"
      ],
      "metadata": {
        "colab": {
          "base_uri": "https://localhost:8080/"
        },
        "id": "DBPJrTwfKFE8",
        "outputId": "aef15e24-7057-4684-d3b4-e60089084792"
      },
      "execution_count": 121,
      "outputs": [
        {
          "output_type": "execute_result",
          "data": {
            "text/plain": [
              "69638.48450412774"
            ]
          },
          "metadata": {},
          "execution_count": 121
        }
      ]
    },
    {
      "cell_type": "code",
      "source": [
        "# Data Frames\n",
        "df1 = frame[frame.cluster==0]\n",
        "df2 = frame[frame.cluster==1]\n",
        "df3 = frame[frame.cluster==2]\n",
        "df4 = frame[frame.cluster==3]\n",
        "df5 = frame[frame.cluster==4]\n",
        "df6 = frame[frame.cluster==5]\n",
        "df7 = frame[frame.cluster==6]\n",
        "df8 = frame[frame.cluster==7]\n",
        "#Plot for cluster by kmeans\n",
        "fig = plt.figure(figsize=(12,7))\n",
        "plt.scatter(df1['airlineid'],df1['Total'],color='blue', marker='*')\n",
        "plt.scatter(df2['airlineid'],df2['Total'],color='green', marker='*')\n",
        "plt.scatter(df3['airlineid'],df3['Total'],color='yellow', marker='*')\n",
        "plt.scatter(df4['airlineid'],df4['Total'],color='red', marker='*')\n",
        "plt.scatter(df5['airlineid'],df5['Total'],color='orange',marker='*')\n",
        "plt.scatter(df6['airlineid'],df6['Total'],color='aqua',marker='*')\n",
        "plt.scatter(df7['airlineid'],df7['Total'],color='purple',marker='*')\n",
        "plt.scatter(df8['airlineid'],df8['Total'],color='brown',marker='*')\n",
        "plt.title('Total metric flown per airline')\n",
        "plt.xlabel('airlineid')\n",
        "plt.ylabel('Total')"
      ],
      "metadata": {
        "colab": {
          "base_uri": "https://localhost:8080/",
          "height": 475
        },
        "id": "AfU9xpfvKGPV",
        "outputId": "986f1f3c-5717-4c2d-a8b4-ae9bfbe94da8"
      },
      "execution_count": 122,
      "outputs": [
        {
          "output_type": "execute_result",
          "data": {
            "text/plain": [
              "Text(0, 0.5, 'Total')"
            ]
          },
          "metadata": {},
          "execution_count": 122
        },
        {
          "output_type": "display_data",
          "data": {
            "image/png": "[encoded data removed]",
            "text/plain": [
              "<Figure size 864x504 with 1 Axes>"
            ]
          },
          "metadata": {
            "needs_background": "light"
          }
        }
      ]
    },
    {
      "cell_type": "code",
      "source": [
        "print(f'Silhouette Score(n=8): {silhouette_score(data_scaled,pred)}')"
      ],
      "metadata": {
        "colab": {
          "base_uri": "https://localhost:8080/"
        },
        "id": "nRB6dTOIzH16",
        "outputId": "0a0d73de-f01e-4384-9c2e-4728494d9d9b"
      },
      "execution_count": 123,
      "outputs": [
        {
          "output_type": "stream",
          "name": "stdout",
          "text": [
            "Silhouette Score(n=8): 0.26471056162303686\n"
          ]
        }
      ]
    },
    {
      "cell_type": "markdown",
      "source": [
        "Scatter plot for number of clusters = 9"
      ],
      "metadata": {
        "id": "Gorz-ABIxoAM"
      }
    },
    {
      "cell_type": "code",
      "source": [
        "# k means using 9 clusters and k-means++ initialization\n",
        "kmeans = KMeans(n_clusters = 9, init='k-means++')\n",
        "kmeans.fit(data_scaled)\n",
        "pred = kmeans.predict(data_scaled)"
      ],
      "metadata": {
        "id": "DsyS54cPKHqO"
      },
      "execution_count": 124,
      "outputs": []
    },
    {
      "cell_type": "code",
      "source": [
        "frame = pd.DataFrame(data_scaled)\n",
        "frame['cluster'] = pred\n",
        "frame['cluster'].value_counts()"
      ],
      "metadata": {
        "colab": {
          "base_uri": "https://localhost:8080/"
        },
        "id": "UEfosz7fKLP1",
        "outputId": "ae100854-d4ec-44a1-99a6-47b0db535a49"
      },
      "execution_count": 125,
      "outputs": [
        {
          "output_type": "execute_result",
          "data": {
            "text/plain": [
              "7    2853\n",
              "1    2687\n",
              "0    2409\n",
              "4    2004\n",
              "6    1740\n",
              "3    1338\n",
              "2    1266\n",
              "5     667\n",
              "8      36\n",
              "Name: cluster, dtype: int64"
            ]
          },
          "metadata": {},
          "execution_count": 125
        }
      ]
    },
    {
      "cell_type": "code",
      "source": [
        "# defining the kmeans function with initialization as k-means++\n",
        "kmeans = KMeans(n_clusters=9, init='k-means++')\n",
        "# fitting the k means algorithm on scaled data\n",
        "kmeans.fit(data_scaled)"
      ],
      "metadata": {
        "colab": {
          "base_uri": "https://localhost:8080/"
        },
        "id": "Tl0aO4wrKMXz",
        "outputId": "652cf1f4-a427-48b0-aad3-e13567cc4934"
      },
      "execution_count": 126,
      "outputs": [
        {
          "output_type": "execute_result",
          "data": {
            "text/plain": [
              "KMeans(n_clusters=9)"
            ]
          },
          "metadata": {},
          "execution_count": 126
        }
      ]
    },
    {
      "cell_type": "code",
      "source": [
        "# inertia on the fitted data\n",
        "kmeans.inertia_"
      ],
      "metadata": {
        "colab": {
          "base_uri": "https://localhost:8080/"
        },
        "id": "g5wFR-nhKOMM",
        "outputId": "b8cffc08-61d6-4320-c36a-a56230a23701"
      },
      "execution_count": 127,
      "outputs": [
        {
          "output_type": "execute_result",
          "data": {
            "text/plain": [
              "65593.6137821934"
            ]
          },
          "metadata": {},
          "execution_count": 127
        }
      ]
    },
    {
      "cell_type": "code",
      "source": [
        "# Data Frames\n",
        "df1 = frame[frame.cluster==0]\n",
        "df2 = frame[frame.cluster==1]\n",
        "df3 = frame[frame.cluster==2]\n",
        "df4 = frame[frame.cluster==3]\n",
        "df5 = frame[frame.cluster==4]\n",
        "df6 = frame[frame.cluster==5]\n",
        "df7 = frame[frame.cluster==6]\n",
        "df8 = frame[frame.cluster==7]\n",
        "df9 = frame[frame.cluster==8]\n",
        "#Plot for cluster by kmeans\n",
        "fig = plt.figure(figsize=(12,7))\n",
        "plt.scatter(df1['airlineid'],df1['Total'],color='blue', marker='*')\n",
        "plt.scatter(df2['airlineid'],df2['Total'],color='green', marker='*')\n",
        "plt.scatter(df3['airlineid'],df3['Total'],color='yellow', marker='*')\n",
        "plt.scatter(df4['airlineid'],df4['Total'],color='red', marker='*')\n",
        "plt.scatter(df5['airlineid'],df5['Total'],color='orange',marker='*')\n",
        "plt.scatter(df6['airlineid'],df6['Total'],color='aqua',marker='*')\n",
        "plt.scatter(df7['airlineid'],df7['Total'],color='purple',marker='*')\n",
        "plt.scatter(df8['airlineid'],df8['Total'],color='brown',marker='*')\n",
        "plt.scatter(df9['airlineid'],df9['Total'],color='crimson',marker='*')\n",
        "plt.title('Total metric flown per airline')\n",
        "plt.xlabel('airlineid')\n",
        "plt.ylabel('Total')"
      ],
      "metadata": {
        "colab": {
          "base_uri": "https://localhost:8080/",
          "height": 475
        },
        "id": "wRcwOcFEKPlM",
        "outputId": "fed3c7b1-cc05-4af4-cf80-e7360234eb72"
      },
      "execution_count": 128,
      "outputs": [
        {
          "output_type": "execute_result",
          "data": {
            "text/plain": [
              "Text(0, 0.5, 'Total')"
            ]
          },
          "metadata": {},
          "execution_count": 128
        },
        {
          "output_type": "display_data",
          "data": {
            "image/png": "[encoded data removed]",
            "text/plain": [
              "<Figure size 864x504 with 1 Axes>"
            ]
          },
          "metadata": {
            "needs_background": "light"
          }
        }
      ]
    },
    {
      "cell_type": "code",
      "source": [
        "print(f'Silhouette Score(n=9): {silhouette_score(data_scaled,pred)}')"
      ],
      "metadata": {
        "colab": {
          "base_uri": "https://localhost:8080/"
        },
        "id": "yY06m5TkyhEc",
        "outputId": "ea0125bd-7f91-4e43-8f06-55a893d9abba"
      },
      "execution_count": 129,
      "outputs": [
        {
          "output_type": "stream",
          "name": "stdout",
          "text": [
            "Silhouette Score(n=9): 0.34781151976014224\n"
          ]
        }
      ]
    }
  ]
}